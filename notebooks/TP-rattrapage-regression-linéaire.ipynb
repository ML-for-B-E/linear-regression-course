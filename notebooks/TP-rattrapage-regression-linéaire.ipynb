{
 "cells": [
  {
   "cell_type": "code",
   "execution_count": null,
   "id": "dc12ba3d",
   "metadata": {},
   "outputs": [],
   "source": [
    "import pandas as pd\n",
    "import numpy as np\n",
    "from matplotlib import pyplot as plt\n",
    "from sklearn.linear_model import ?????         # comment définir un modèle linéaire?\n",
    "from sklearn.metrics import mean_squared_error"
   ]
  },
  {
   "cell_type": "markdown",
   "id": "ad462cf7",
   "metadata": {},
   "source": [
    "![title](../images/simple_workflow.png)"
   ]
  },
  {
   "cell_type": "markdown",
   "id": "ff7b16e0",
   "metadata": {},
   "source": [
    "# Collecte des données"
   ]
  },
  {
   "cell_type": "markdown",
   "id": "706f3d2e",
   "metadata": {},
   "source": [
    "## Lecture"
   ]
  },
  {
   "cell_type": "markdown",
   "id": "fe660ae1",
   "metadata": {},
   "source": [
    "https://www.kaggle.com/datasets/kumarajarshi/life-expectancy-who"
   ]
  },
  {
   "cell_type": "code",
   "execution_count": null,
   "id": "0d101162",
   "metadata": {},
   "outputs": [],
   "source": [
    "df = pd.read_csv(\"Life Expectancy Data.csv\")\n",
    "df_2015 = df[df.Year == 2014]\n",
    "df_2015 = df_2015.drop(\"Year\",axis=1)\n",
    "df_2015.set_index(\"Country\",inplace = True)"
   ]
  },
  {
   "cell_type": "code",
   "execution_count": null,
   "id": "26e102c8",
   "metadata": {},
   "outputs": [],
   "source": [
    "data = df_2015[['Life expectancy ','Schooling']]\n",
    "data = data.dropna(axis=0)"
   ]
  },
  {
   "cell_type": "code",
   "execution_count": null,
   "id": "1d181908",
   "metadata": {},
   "outputs": [],
   "source": [
    "data.head()"
   ]
  },
  {
   "cell_type": "markdown",
   "id": "d4a2f2f2",
   "metadata": {},
   "source": [
    "## Définition"
   ]
  },
  {
   "cell_type": "markdown",
   "id": "b0f25c05",
   "metadata": {},
   "source": [
    "**Schooling**: Expected years of schooling is the number of years a child of school entrance age is expected to spend at school, or university, including years spent on repetition. It is the sum of the age-specific enrolment ratios for primary, secondary, post-secondary non-tertiary and tertiary education.\n",
    "\n",
    "**Life expectancy**: The average number of years that a newborn could expect to live, if he or she were to pass through life exposed to the sex- and age-specific death rates prevailing at the time of his or her birth, for a specific year, in a given country, territory, or geographic area."
   ]
  },
  {
   "cell_type": "markdown",
   "id": "9949ce11",
   "metadata": {},
   "source": [
    "# Définition du modèle"
   ]
  },
  {
   "cell_type": "markdown",
   "id": "71b7e3ad",
   "metadata": {},
   "source": [
    "On va faire un modèle de régression linéaire: $Y = a \\times X + b$"
   ]
  },
  {
   "cell_type": "code",
   "execution_count": null,
   "id": "db976875",
   "metadata": {},
   "outputs": [],
   "source": [
    "fig, ax = plt.subplots(figsize=(10,8))\n",
    "ax.scatter(y = data['Life expectancy '],x = data['Schooling'])\n",
    "plt.xlabel(\"Temps d'étude\")\n",
    "plt.ylabel(\"Espérance de vie\")\n",
    "plt.title(\"Espérance de vie vs. Temps d'étude\")\n",
    "plt.show()"
   ]
  },
  {
   "cell_type": "code",
   "execution_count": null,
   "id": "af2210a5",
   "metadata": {},
   "outputs": [],
   "source": [
    "modele_simple = ?????"
   ]
  },
  {
   "cell_type": "markdown",
   "id": "4e0f96d8",
   "metadata": {},
   "source": [
    "# Calibrage du modèle"
   ]
  },
  {
   "cell_type": "markdown",
   "id": "95b23724",
   "metadata": {},
   "source": [
    "On va chercher les meilleurs paramètres $a$ et $b$"
   ]
  },
  {
   "cell_type": "code",
   "execution_count": null,
   "id": "4d2c6c0b",
   "metadata": {},
   "outputs": [],
   "source": [
    "modele_simple.fit(data[['Schooling']],data['Life expectancy '])"
   ]
  },
  {
   "cell_type": "code",
   "execution_count": null,
   "id": "4e2f6c9d",
   "metadata": {},
   "outputs": [],
   "source": [
    "modele_simple.intercept_"
   ]
  },
  {
   "cell_type": "code",
   "execution_count": null,
   "id": "b3801141",
   "metadata": {},
   "outputs": [],
   "source": [
    "modele_simple.coef_"
   ]
  },
  {
   "cell_type": "code",
   "execution_count": null,
   "id": "3318f717",
   "metadata": {},
   "outputs": [],
   "source": [
    "fig, ax = plt.subplots(figsize=(10,8))\n",
    "ax.scatter(y = data['Life expectancy '],x = data['Schooling'])\n",
    "\n",
    "Y_model = modele_simple.predict(data[['Schooling']])\n",
    "ax.plot(data['Schooling'],Y_model,\"red\")\n",
    "\n",
    "plt.xlabel(\"Temps d'étude\")\n",
    "plt.ylabel(\"Espérance de vie\")\n",
    "plt.title(\"Espérance de vie vs. Temps d'étude\")\n",
    "plt.show()"
   ]
  },
  {
   "cell_type": "code",
   "execution_count": null,
   "id": "2cbe4bfd",
   "metadata": {},
   "outputs": [],
   "source": [
    "mean_squared_error(y_true = data['Life expectancy '], \n",
    "                   y_pred = Y_model,\n",
    "                   squared=False)"
   ]
  },
  {
   "cell_type": "markdown",
   "id": "09d8e48f",
   "metadata": {},
   "source": [
    "# Nouvelle donnée"
   ]
  },
  {
   "cell_type": "markdown",
   "id": "bcc4eaf9",
   "metadata": {},
   "source": [
    "https://www.nationmaster.com/country-info/profiles/Benin/Education"
   ]
  },
  {
   "cell_type": "code",
   "execution_count": null,
   "id": "e5ae6329",
   "metadata": {},
   "outputs": [],
   "source": [
    "nouvelle_donnee = pd.DataFrame({\"Schooling\":[5]}\n",
    ")"
   ]
  },
  {
   "cell_type": "code",
   "execution_count": null,
   "id": "86f7108c",
   "metadata": {},
   "outputs": [],
   "source": [
    "modele_simple.predict(nouvelle_donnee)"
   ]
  },
  {
   "cell_type": "markdown",
   "id": "9a0305b4",
   "metadata": {},
   "source": [
    "# **FIN** "
   ]
  }
 ],
 "metadata": {
  "kernelspec": {
   "display_name": "Python 3 (ipykernel)",
   "language": "python",
   "name": "python3"
  },
  "language_info": {
   "codemirror_mode": {
    "name": "ipython",
    "version": 3
   },
   "file_extension": ".py",
   "mimetype": "text/x-python",
   "name": "python",
   "nbconvert_exporter": "python",
   "pygments_lexer": "ipython3",
   "version": "3.9.13"
  }
 },
 "nbformat": 4,
 "nbformat_minor": 5
}
