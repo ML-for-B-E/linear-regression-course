{
 "cells": [
  {
   "cell_type": "code",
   "execution_count": 1,
   "id": "dc12ba3d",
   "metadata": {},
   "outputs": [],
   "source": [
    "import pandas as pd\n",
    "import numpy as np\n",
    "from matplotlib import pyplot as plt\n",
    "from sklearn.linear_model import LinearRegression         # comment définir un modèle linéaire?\n",
    "from sklearn.metrics import mean_squared_error\n",
    "from pathlib import Path\n",
    "\n",
    "from cloud_io.gcp.io import download_file\n",
    "from reglin.tools.common_path import ROOT_PATH, BUCKET_NAME"
   ]
  },
  {
   "cell_type": "markdown",
   "id": "ad462cf7",
   "metadata": {},
   "source": [
    "![title](../images/simple_workflow.png)"
   ]
  },
  {
   "cell_type": "markdown",
   "id": "ff7b16e0",
   "metadata": {},
   "source": [
    "# Collecte des données"
   ]
  },
  {
   "cell_type": "markdown",
   "id": "706f3d2e",
   "metadata": {},
   "source": [
    "## Lecture"
   ]
  },
  {
   "cell_type": "markdown",
   "id": "fe660ae1",
   "metadata": {},
   "source": [
    "https://www.kaggle.com/datasets/kumarajarshi/life-expectancy-who"
   ]
  },
  {
   "cell_type": "code",
   "execution_count": 2,
   "id": "1ac0a9ee",
   "metadata": {},
   "outputs": [],
   "source": [
    "VERBOSE = True"
   ]
  },
  {
   "cell_type": "code",
   "execution_count": null,
   "id": "9c6c101f",
   "metadata": {},
   "outputs": [],
   "source": [
    "download_path = Path(ROOT_PATH, \"data/Life Expectancy Data.csv\")\n",
    "path_data = download_file(download_path, bucket_as_local=ROOT_PATH, bucket_name=BUCKET_NAME)"
   ]
  },
  {
   "cell_type": "code",
   "execution_count": null,
   "id": "0d101162",
   "metadata": {},
   "outputs": [],
   "source": [
    "df = pd.read_csv(path_data)\n",
    "df_2015 = df[df.Year == 2014]\n",
    "df_2015 = df_2015.drop(\"Year\",axis=1)\n",
    "df_2015.set_index(\"Country\",inplace = True)"
   ]
  },
  {
   "cell_type": "code",
   "execution_count": null,
   "id": "26e102c8",
   "metadata": {},
   "outputs": [],
   "source": [
    "data = df_2015[['Life expectancy ','Schooling']]\n",
    "data = data.dropna(axis=0)"
   ]
  },
  {
   "cell_type": "code",
   "execution_count": null,
   "id": "1d181908",
   "metadata": {},
   "outputs": [],
   "source": [
    "data.head()"
   ]
  },
  {
   "cell_type": "markdown",
   "id": "d4a2f2f2",
   "metadata": {},
   "source": [
    "## Définition"
   ]
  },
  {
   "cell_type": "markdown",
   "id": "b0f25c05",
   "metadata": {},
   "source": [
    "**Schooling**: Les années de scolarisation sont le nombre d'années qu'un enfant en âge d'entrer à l'école est censé passer à l'école ou à l'université, y compris les années passées à redoubler. Il s'agit de la somme des taux de scolarisation par âge dans l'enseignement primaire, secondaire, post-secondaire non tertiaire et tertiaire.\n",
    "\n",
    "**Life expectancy**: Nombre moyen d'années qu'un nouveau-né pourrait espérer vivre s'il était exposé aux taux de mortalité par sexe et par âge en vigueur au moment de sa naissance, pour une année donnée, dans un pays, un territoire ou une zone géographique donné(e)."
   ]
  },
  {
   "cell_type": "markdown",
   "id": "9949ce11",
   "metadata": {},
   "source": [
    "# Définition du modèle"
   ]
  },
  {
   "cell_type": "markdown",
   "id": "71b7e3ad",
   "metadata": {},
   "source": [
    "On va faire un modèle de régression linéaire: $Y = a \\times X + b$"
   ]
  },
  {
   "cell_type": "code",
   "execution_count": null,
   "id": "db976875",
   "metadata": {},
   "outputs": [],
   "source": [
    "if VERBOSE:\n",
    "    fig, ax = plt.subplots(figsize=(10,8))\n",
    "    ax.scatter(y = data['Life expectancy '],x = data['Schooling'])\n",
    "    plt.xlabel(\"Temps d'étude\")\n",
    "    plt.ylabel(\"Espérance de vie\")\n",
    "    plt.title(\"Espérance de vie vs. Temps d'étude\")\n",
    "    plt.show()"
   ]
  },
  {
   "cell_type": "code",
   "execution_count": null,
   "id": "af2210a5",
   "metadata": {},
   "outputs": [],
   "source": [
    "modele_simple = LinearRegression()"
   ]
  },
  {
   "cell_type": "markdown",
   "id": "4e0f96d8",
   "metadata": {},
   "source": [
    "# Calibrage du modèle"
   ]
  },
  {
   "cell_type": "markdown",
   "id": "95b23724",
   "metadata": {},
   "source": [
    "On va chercher les meilleurs paramètres $a$ et $b$"
   ]
  },
  {
   "cell_type": "code",
   "execution_count": null,
   "id": "4d2c6c0b",
   "metadata": {},
   "outputs": [],
   "source": [
    "modele_simple.fit(data[['Schooling']],data['Life expectancy '])"
   ]
  },
  {
   "cell_type": "code",
   "execution_count": null,
   "id": "4e2f6c9d",
   "metadata": {},
   "outputs": [],
   "source": [
    "modele_simple.intercept_"
   ]
  },
  {
   "cell_type": "code",
   "execution_count": null,
   "id": "b3801141",
   "metadata": {},
   "outputs": [],
   "source": [
    "modele_simple.coef_"
   ]
  },
  {
   "cell_type": "code",
   "execution_count": null,
   "id": "3318f717",
   "metadata": {},
   "outputs": [],
   "source": [
    "if VERBOSE:\n",
    "    fig, ax = plt.subplots(figsize=(10,8))\n",
    "    ax.scatter(y = data['Life expectancy '],x = data['Schooling'])\n",
    "\n",
    "    Y_model = modele_simple.predict(data[['Schooling']])\n",
    "    ax.plot(data['Schooling'],Y_model,\"red\")\n",
    "\n",
    "    plt.xlabel(\"Temps d'étude\")\n",
    "    plt.ylabel(\"Espérance de vie\")\n",
    "    plt.title(\"Espérance de vie vs. Temps d'étude\")\n",
    "    plt.show()"
   ]
  },
  {
   "cell_type": "code",
   "execution_count": null,
   "id": "2cbe4bfd",
   "metadata": {},
   "outputs": [],
   "source": [
    "mean_squared_error(y_true = data['Life expectancy '], \n",
    "                   y_pred = Y_model,\n",
    "                   squared=False)"
   ]
  },
  {
   "cell_type": "markdown",
   "id": "09d8e48f",
   "metadata": {},
   "source": [
    "# Nouvelle donnée"
   ]
  },
  {
   "cell_type": "markdown",
   "id": "bcc4eaf9",
   "metadata": {},
   "source": [
    "https://www.nationmaster.com/country-info/profiles/Benin/Education"
   ]
  },
  {
   "cell_type": "code",
   "execution_count": null,
   "id": "e5ae6329",
   "metadata": {},
   "outputs": [],
   "source": [
    "nouvelle_donnee = pd.DataFrame({\"Schooling\":[5]}\n",
    ")"
   ]
  },
  {
   "cell_type": "code",
   "execution_count": null,
   "id": "86f7108c",
   "metadata": {},
   "outputs": [],
   "source": [
    "modele_simple.predict(nouvelle_donnee)"
   ]
  },
  {
   "cell_type": "markdown",
   "id": "9a0305b4",
   "metadata": {},
   "source": [
    "# **FIN** "
   ]
  }
 ],
 "metadata": {
  "kernelspec": {
   "display_name": "venv",
   "language": "python",
   "name": "python3"
  },
  "language_info": {
   "codemirror_mode": {
    "name": "ipython",
    "version": 3
   },
   "file_extension": ".py",
   "mimetype": "text/x-python",
   "name": "python",
   "nbconvert_exporter": "python",
   "pygments_lexer": "ipython3",
   "version": "3.9.13"
  },
  "toc": {
   "base_numbering": 1,
   "nav_menu": {},
   "number_sections": true,
   "sideBar": true,
   "skip_h1_title": false,
   "title_cell": "Table of Contents",
   "title_sidebar": "Contents",
   "toc_cell": false,
   "toc_position": {},
   "toc_section_display": true,
   "toc_window_display": false
  }
 },
 "nbformat": 4,
 "nbformat_minor": 5
}
