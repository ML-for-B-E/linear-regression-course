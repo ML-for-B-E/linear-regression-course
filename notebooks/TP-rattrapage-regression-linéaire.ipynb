{
 "cells": [
  {
   "cell_type": "code",
   "execution_count": 17,
   "id": "114ef4cb",
   "metadata": {},
   "outputs": [],
   "source": [
    "import pandas as pd\n",
    "import numpy as np\n",
    "from matplotlib import pyplot as plt\n",
    "from sklearn.linear_model import LinearRegression"
   ]
  },
  {
   "cell_type": "markdown",
   "id": "dbef8bc4",
   "metadata": {},
   "source": [
    "![title](../images/simple_workflow.png)"
   ]
  },
  {
   "cell_type": "markdown",
   "id": "6cf95450",
   "metadata": {},
   "source": [
    "# Collecte des données"
   ]
  },
  {
   "cell_type": "markdown",
   "id": "cd81dfeb",
   "metadata": {},
   "source": [
    "## Lecture"
   ]
  },
  {
   "cell_type": "markdown",
   "id": "1519a542",
   "metadata": {},
   "source": [
    "https://www.kaggle.com/datasets/kumarajarshi/life-expectancy-who"
   ]
  },
  {
   "cell_type": "code",
   "execution_count": 31,
   "id": "0d101162",
   "metadata": {},
   "outputs": [],
   "source": [
    "df = pd.read_csv(\"Life Expectancy Data.csv\")\n",
    "df_2015 = df[df.Year == 2014]\n",
    "df_2015 = df_2015.drop(\"Year\",axis=1)\n",
    "df_2015.set_index(\"Country\",inplace = True)"
   ]
  },
  {
   "cell_type": "code",
   "execution_count": 32,
   "id": "3571c45e",
   "metadata": {},
   "outputs": [],
   "source": [
    "data = df_2015[['Life expectancy ','Schooling']]\n",
    "data = data.dropna(axis=0)"
   ]
  },
  {
   "cell_type": "code",
   "execution_count": 33,
   "id": "d199ef6a",
   "metadata": {},
   "outputs": [
    {
     "data": {
      "text/html": [
       "<div>\n",
       "<style scoped>\n",
       "    .dataframe tbody tr th:only-of-type {\n",
       "        vertical-align: middle;\n",
       "    }\n",
       "\n",
       "    .dataframe tbody tr th {\n",
       "        vertical-align: top;\n",
       "    }\n",
       "\n",
       "    .dataframe thead th {\n",
       "        text-align: right;\n",
       "    }\n",
       "</style>\n",
       "<table border=\"1\" class=\"dataframe\">\n",
       "  <thead>\n",
       "    <tr style=\"text-align: right;\">\n",
       "      <th></th>\n",
       "      <th>Life expectancy</th>\n",
       "      <th>Schooling</th>\n",
       "    </tr>\n",
       "    <tr>\n",
       "      <th>Country</th>\n",
       "      <th></th>\n",
       "      <th></th>\n",
       "    </tr>\n",
       "  </thead>\n",
       "  <tbody>\n",
       "    <tr>\n",
       "      <th>Afghanistan</th>\n",
       "      <td>59.9</td>\n",
       "      <td>10.0</td>\n",
       "    </tr>\n",
       "    <tr>\n",
       "      <th>Albania</th>\n",
       "      <td>77.5</td>\n",
       "      <td>14.2</td>\n",
       "    </tr>\n",
       "    <tr>\n",
       "      <th>Algeria</th>\n",
       "      <td>75.4</td>\n",
       "      <td>14.4</td>\n",
       "    </tr>\n",
       "    <tr>\n",
       "      <th>Angola</th>\n",
       "      <td>51.7</td>\n",
       "      <td>11.4</td>\n",
       "    </tr>\n",
       "    <tr>\n",
       "      <th>Antigua and Barbuda</th>\n",
       "      <td>76.2</td>\n",
       "      <td>13.9</td>\n",
       "    </tr>\n",
       "  </tbody>\n",
       "</table>\n",
       "</div>"
      ],
      "text/plain": [
       "                     Life expectancy   Schooling\n",
       "Country                                         \n",
       "Afghanistan                      59.9       10.0\n",
       "Albania                          77.5       14.2\n",
       "Algeria                          75.4       14.4\n",
       "Angola                           51.7       11.4\n",
       "Antigua and Barbuda              76.2       13.9"
      ]
     },
     "execution_count": 33,
     "metadata": {},
     "output_type": "execute_result"
    }
   ],
   "source": [
    "data.head()"
   ]
  },
  {
   "cell_type": "markdown",
   "id": "fcdd5a4d",
   "metadata": {},
   "source": [
    "## Définition"
   ]
  },
  {
   "cell_type": "markdown",
   "id": "7225d1c1",
   "metadata": {},
   "source": [
    "**Schooling**: Expected years of schooling is the number of years a child of school entrance age is expected to spend at school, or university, including years spent on repetition. It is the sum of the age-specific enrolment ratios for primary, secondary, post-secondary non-tertiary and tertiary education.\n",
    "\n",
    "**Life expectancy**: The average number of years that a newborn could expect to live, if he or she were to pass through life exposed to the sex- and age-specific death rates prevailing at the time of his or her birth, for a specific year, in a given country, territory, or geographic area."
   ]
  },
  {
   "cell_type": "markdown",
   "id": "2f64da3f",
   "metadata": {},
   "source": [
    "# Définition du modèle"
   ]
  },
  {
   "cell_type": "markdown",
   "id": "b040446e",
   "metadata": {},
   "source": [
    "On va faire un modèle de régression linéaire: $Y = a \\times X + b$"
   ]
  },
  {
   "cell_type": "code",
   "execution_count": 68,
   "id": "78ccbe9f",
   "metadata": {},
   "outputs": [
    {
     "data": {
      "image/png": "[encoded data removed]",
      "text/plain": [
       "<Figure size 720x576 with 1 Axes>"
      ]
     },
     "metadata": {
      "needs_background": "light"
     },
     "output_type": "display_data"
    }
   ],
   "source": [
    "fig, ax = plt.subplots(figsize=(10,8))\n",
    "ax.scatter(y = data['Life expectancy '],x = data['Schooling'])\n",
    "plt.xlabel(\"Temps d'étude\")\n",
    "plt.ylabel(\"Espérance de vie\")\n",
    "plt.title(\"Espérance de vie vs. Temps d'étude\")\n",
    "plt.show()"
   ]
  },
  {
   "cell_type": "code",
   "execution_count": 58,
   "id": "5cbc3ca3",
   "metadata": {},
   "outputs": [],
   "source": [
    "modele_simple = LinearRegression()"
   ]
  },
  {
   "cell_type": "markdown",
   "id": "568f3f63",
   "metadata": {},
   "source": [
    "# Calibrage du modèle"
   ]
  },
  {
   "cell_type": "markdown",
   "id": "fc1651e1",
   "metadata": {},
   "source": [
    "On va chercher les meilleurs paramètres $a$ et $b$"
   ]
  },
  {
   "cell_type": "code",
   "execution_count": 59,
   "id": "be595592",
   "metadata": {},
   "outputs": [
    {
     "data": {
      "text/plain": [
       "LinearRegression()"
      ]
     },
     "execution_count": 59,
     "metadata": {},
     "output_type": "execute_result"
    }
   ],
   "source": [
    "modele_simple.fit(data[['Schooling']],data['Life expectancy '])"
   ]
  },
  {
   "cell_type": "code",
   "execution_count": 60,
   "id": "4197bb27",
   "metadata": {},
   "outputs": [
    {
     "data": {
      "text/plain": [
       "41.51230517169597"
      ]
     },
     "execution_count": 60,
     "metadata": {},
     "output_type": "execute_result"
    }
   ],
   "source": [
    "modele_simple.intercept_"
   ]
  },
  {
   "cell_type": "code",
   "execution_count": 61,
   "id": "e2ef3a32",
   "metadata": {},
   "outputs": [
    {
     "data": {
      "text/plain": [
       "array([2.33714788])"
      ]
     },
     "execution_count": 61,
     "metadata": {},
     "output_type": "execute_result"
    }
   ],
   "source": [
    "modele_simple.coef_"
   ]
  },
  {
   "cell_type": "code",
   "execution_count": 72,
   "id": "cd256e27",
   "metadata": {},
   "outputs": [
    {
     "data": {
      "image/png": "[encoded data removed]",
      "text/plain": [
       "<Figure size 720x576 with 1 Axes>"
      ]
     },
     "metadata": {
      "needs_background": "light"
     },
     "output_type": "display_data"
    }
   ],
   "source": [
    "fig, ax = plt.subplots(figsize=(10,8))\n",
    "ax.scatter(y = data['Life expectancy '],x = data['Schooling'])\n",
    "\n",
    "Y_model = modele_simple.predict(data[['Schooling']])\n",
    "ax.plot(data['Schooling'],Y_model,\"red\")\n",
    "\n",
    "plt.xlabel(\"Temps d'étude\")\n",
    "plt.ylabel(\"Espérance de vie\")\n",
    "plt.title(\"Espérance de vie vs. Temps d'étude\")\n",
    "plt.show()"
   ]
  },
  {
   "cell_type": "code",
   "execution_count": 63,
   "id": "bc15525d",
   "metadata": {},
   "outputs": [
    {
     "data": {
      "text/plain": [
       "<AxesSubplot:title={'center':\"Espérance de vie vs. Temps d'étude\"}, xlabel=\"Temps d'étude\", ylabel='Espérance de vie'>"
      ]
     },
     "execution_count": 63,
     "metadata": {},
     "output_type": "execute_result"
    }
   ],
   "source": [
    "ax"
   ]
  },
  {
   "cell_type": "markdown",
   "id": "a12d8364",
   "metadata": {},
   "source": [
    "# Nouvelle donnée"
   ]
  },
  {
   "cell_type": "markdown",
   "id": "95e838a9",
   "metadata": {},
   "source": [
    "https://www.nationmaster.com/country-info/profiles/Benin/Education"
   ]
  },
  {
   "cell_type": "code",
   "execution_count": 45,
   "id": "1f43b5c3",
   "metadata": {},
   "outputs": [],
   "source": [
    "nouvelle_donnee = pd.DataFrame({\"Schooling\":[5]}\n",
    ")"
   ]
  },
  {
   "cell_type": "code",
   "execution_count": 46,
   "id": "59bdac05",
   "metadata": {},
   "outputs": [
    {
     "data": {
      "text/plain": [
       "array([53.19804459])"
      ]
     },
     "execution_count": 46,
     "metadata": {},
     "output_type": "execute_result"
    }
   ],
   "source": [
    "modele_simple.predict(nouvelle_donnee)"
   ]
  },
  {
   "cell_type": "code",
   "execution_count": null,
   "id": "27e0deb8",
   "metadata": {},
   "outputs": [],
   "source": []
  }
 ],
 "metadata": {
  "kernelspec": {
   "display_name": "Python 3 (ipykernel)",
   "language": "python",
   "name": "python3"
  },
  "language_info": {
   "codemirror_mode": {
    "name": "ipython",
    "version": 3
   },
   "file_extension": ".py",
   "mimetype": "text/x-python",
   "name": "python",
   "nbconvert_exporter": "python",
   "pygments_lexer": "ipython3",
   "version": "3.9.13"
  }
 },
 "nbformat": 4,
 "nbformat_minor": 5
}
