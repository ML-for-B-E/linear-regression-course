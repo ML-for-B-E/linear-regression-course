{
 "cells": [
  {
   "cell_type": "code",
   "execution_count": 2,
   "id": "dc12ba3d",
   "metadata": {},
   "outputs": [
    {
     "ename": "ModuleNotFoundError",
     "evalue": "No module named 'cloud_io'",
     "output_type": "error",
     "traceback": [
      "\u001b[1;31m---------------------------------------------------------------------------\u001b[0m",
      "\u001b[1;31mModuleNotFoundError\u001b[0m                       Traceback (most recent call last)",
      "\u001b[1;32m~\\AppData\\Local\\Temp/ipykernel_17548/893553044.py\u001b[0m in \u001b[0;36m<module>\u001b[1;34m\u001b[0m\n\u001b[0;32m      6\u001b[0m \u001b[1;32mfrom\u001b[0m \u001b[0mpathlib\u001b[0m \u001b[1;32mimport\u001b[0m \u001b[0mPath\u001b[0m\u001b[1;33m\u001b[0m\u001b[1;33m\u001b[0m\u001b[0m\n\u001b[0;32m      7\u001b[0m \u001b[1;33m\u001b[0m\u001b[0m\n\u001b[1;32m----> 8\u001b[1;33m \u001b[1;32mfrom\u001b[0m \u001b[0mcloud_io\u001b[0m\u001b[1;33m.\u001b[0m\u001b[0mgcp\u001b[0m\u001b[1;33m.\u001b[0m\u001b[0mio\u001b[0m \u001b[1;32mimport\u001b[0m \u001b[0mdownload_file\u001b[0m\u001b[1;33m\u001b[0m\u001b[1;33m\u001b[0m\u001b[0m\n\u001b[0m\u001b[0;32m      9\u001b[0m \u001b[1;32mfrom\u001b[0m \u001b[0mreglin\u001b[0m\u001b[1;33m.\u001b[0m\u001b[0mtools\u001b[0m\u001b[1;33m.\u001b[0m\u001b[0mcommon_path\u001b[0m \u001b[1;32mimport\u001b[0m \u001b[0mROOT_PATH\u001b[0m\u001b[1;33m,\u001b[0m \u001b[0mBUCKET_NAME\u001b[0m\u001b[1;33m\u001b[0m\u001b[1;33m\u001b[0m\u001b[0m\n",
      "\u001b[1;31mModuleNotFoundError\u001b[0m: No module named 'cloud_io'"
     ]
    }
   ],
   "source": [
    "import pandas as pd\n",
    "import numpy as np\n",
    "from matplotlib import pyplot as plt\n",
    "from sklearn.linear_model import LinearRegression         # comment définir un modèle linéaire?\n",
    "from sklearn.metrics import mean_squared_error\n",
    "from pathlib import Path\n",
    "\n",
    "from cloud_io.gcp.io import download_file\n",
    "from reglin.tools.common_path import ROOT_PATH, BUCKET_NAME"
   ]
  },
  {
   "cell_type": "markdown",
   "id": "ad462cf7",
   "metadata": {},
   "source": [
    "![title](../images/simple_workflow.png)"
   ]
  },
  {
   "cell_type": "markdown",
   "id": "ff7b16e0",
   "metadata": {},
   "source": [
    "# Collecte des données"
   ]
  },
  {
   "cell_type": "markdown",
   "id": "706f3d2e",
   "metadata": {},
   "source": [
    "## Lecture"
   ]
  },
  {
   "cell_type": "markdown",
   "id": "fe660ae1",
   "metadata": {},
   "source": [
    "https://www.kaggle.com/datasets/kumarajarshi/life-expectancy-who"
   ]
  },
  {
   "cell_type": "code",
   "execution_count": null,
   "id": "9c6c101f",
   "metadata": {},
   "outputs": [],
   "source": [
    "download_path = Path(ROOT_PATH, \"data/Life Expectancy Data.csv\")\n",
    "path_data = download_file(download_path, bucket_as_local=ROOT_PATH, bucket_name=BUCKET_NAME)"
   ]
  },
  {
   "cell_type": "code",
   "execution_count": 5,
   "id": "0d101162",
   "metadata": {},
   "outputs": [],
   "source": [
    "df = pd.read_csv(path_data)\n",
    "df_2015 = df[df.Year == 2014]\n",
    "df_2015 = df_2015.drop(\"Year\",axis=1)\n",
    "df_2015.set_index(\"Country\",inplace = True)"
   ]
  },
  {
   "cell_type": "code",
   "execution_count": 6,
   "id": "26e102c8",
   "metadata": {},
   "outputs": [],
   "source": [
    "data = df_2015[['Life expectancy ','Schooling']]\n",
    "data = data.dropna(axis=0)"
   ]
  },
  {
   "cell_type": "code",
   "execution_count": 7,
   "id": "1d181908",
   "metadata": {},
   "outputs": [
    {
     "data": {
      "text/html": [
       "<div>\n",
       "<style scoped>\n",
       "    .dataframe tbody tr th:only-of-type {\n",
       "        vertical-align: middle;\n",
       "    }\n",
       "\n",
       "    .dataframe tbody tr th {\n",
       "        vertical-align: top;\n",
       "    }\n",
       "\n",
       "    .dataframe thead th {\n",
       "        text-align: right;\n",
       "    }\n",
       "</style>\n",
       "<table border=\"1\" class=\"dataframe\">\n",
       "  <thead>\n",
       "    <tr style=\"text-align: right;\">\n",
       "      <th></th>\n",
       "      <th>Life expectancy</th>\n",
       "      <th>Schooling</th>\n",
       "    </tr>\n",
       "    <tr>\n",
       "      <th>Country</th>\n",
       "      <th></th>\n",
       "      <th></th>\n",
       "    </tr>\n",
       "  </thead>\n",
       "  <tbody>\n",
       "    <tr>\n",
       "      <th>Afghanistan</th>\n",
       "      <td>59.9</td>\n",
       "      <td>10.0</td>\n",
       "    </tr>\n",
       "    <tr>\n",
       "      <th>Albania</th>\n",
       "      <td>77.5</td>\n",
       "      <td>14.2</td>\n",
       "    </tr>\n",
       "    <tr>\n",
       "      <th>Algeria</th>\n",
       "      <td>75.4</td>\n",
       "      <td>14.4</td>\n",
       "    </tr>\n",
       "    <tr>\n",
       "      <th>Angola</th>\n",
       "      <td>51.7</td>\n",
       "      <td>11.4</td>\n",
       "    </tr>\n",
       "    <tr>\n",
       "      <th>Antigua and Barbuda</th>\n",
       "      <td>76.2</td>\n",
       "      <td>13.9</td>\n",
       "    </tr>\n",
       "  </tbody>\n",
       "</table>\n",
       "</div>"
      ],
      "text/plain": [
       "                     Life expectancy   Schooling\n",
       "Country                                         \n",
       "Afghanistan                      59.9       10.0\n",
       "Albania                          77.5       14.2\n",
       "Algeria                          75.4       14.4\n",
       "Angola                           51.7       11.4\n",
       "Antigua and Barbuda              76.2       13.9"
      ]
     },
     "execution_count": 7,
     "metadata": {},
     "output_type": "execute_result"
    }
   ],
   "source": [
    "data.head()"
   ]
  },
  {
   "cell_type": "markdown",
   "id": "d4a2f2f2",
   "metadata": {},
   "source": [
    "## Définition"
   ]
  },
  {
   "cell_type": "markdown",
   "id": "b0f25c05",
   "metadata": {},
   "source": [
    "**Schooling**: Les années de scolarisation sont le nombre d'années qu'un enfant en âge d'entrer à l'école est censé passer à l'école ou à l'université, y compris les années passées à redoubler. Il s'agit de la somme des taux de scolarisation par âge dans l'enseignement primaire, secondaire, post-secondaire non tertiaire et tertiaire.\n",
    "\n",
    "**Life expectancy**: Nombre moyen d'années qu'un nouveau-né pourrait espérer vivre s'il était exposé aux taux de mortalité par sexe et par âge en vigueur au moment de sa naissance, pour une année donnée, dans un pays, un territoire ou une zone géographique donné(e)."
   ]
  },
  {
   "cell_type": "markdown",
   "id": "9949ce11",
   "metadata": {},
   "source": [
    "# Définition du modèle"
   ]
  },
  {
   "cell_type": "markdown",
   "id": "71b7e3ad",
   "metadata": {},
   "source": [
    "On va faire un modèle de régression linéaire: $Y = a \\times X + b$"
   ]
  },
  {
   "cell_type": "code",
   "execution_count": 8,
   "id": "db976875",
   "metadata": {},
   "outputs": [
    {
     "data": {
      "image/png": "[encoded data removed]",
      "text/plain": [
       "<Figure size 720x576 with 1 Axes>"
      ]
     },
     "metadata": {
      "needs_background": "light"
     },
     "output_type": "display_data"
    }
   ],
   "source": [
    "fig, ax = plt.subplots(figsize=(10,8))\n",
    "ax.scatter(y = data['Life expectancy '],x = data['Schooling'])\n",
    "plt.xlabel(\"Temps d'étude\")\n",
    "plt.ylabel(\"Espérance de vie\")\n",
    "plt.title(\"Espérance de vie vs. Temps d'étude\")\n",
    "plt.show()"
   ]
  },
  {
   "cell_type": "code",
   "execution_count": 9,
   "id": "af2210a5",
   "metadata": {},
   "outputs": [],
   "source": [
    "modele_simple = LinearRegression()"
   ]
  },
  {
   "cell_type": "markdown",
   "id": "4e0f96d8",
   "metadata": {},
   "source": [
    "# Calibrage du modèle"
   ]
  },
  {
   "cell_type": "markdown",
   "id": "95b23724",
   "metadata": {},
   "source": [
    "On va chercher les meilleurs paramètres $a$ et $b$"
   ]
  },
  {
   "cell_type": "code",
   "execution_count": 10,
   "id": "4d2c6c0b",
   "metadata": {},
   "outputs": [
    {
     "data": {
      "text/plain": [
       "LinearRegression()"
      ]
     },
     "execution_count": 10,
     "metadata": {},
     "output_type": "execute_result"
    }
   ],
   "source": [
    "modele_simple.fit(data[['Schooling']],data['Life expectancy '])"
   ]
  },
  {
   "cell_type": "code",
   "execution_count": 11,
   "id": "4e2f6c9d",
   "metadata": {},
   "outputs": [
    {
     "data": {
      "text/plain": [
       "41.51230517169596"
      ]
     },
     "execution_count": 11,
     "metadata": {},
     "output_type": "execute_result"
    }
   ],
   "source": [
    "modele_simple.intercept_"
   ]
  },
  {
   "cell_type": "code",
   "execution_count": 12,
   "id": "b3801141",
   "metadata": {},
   "outputs": [
    {
     "data": {
      "text/plain": [
       "array([2.33714788])"
      ]
     },
     "execution_count": 12,
     "metadata": {},
     "output_type": "execute_result"
    }
   ],
   "source": [
    "modele_simple.coef_"
   ]
  },
  {
   "cell_type": "code",
   "execution_count": 13,
   "id": "3318f717",
   "metadata": {},
   "outputs": [
    {
     "data": {
      "image/png": "[encoded data removed]",
      "text/plain": [
       "<Figure size 720x576 with 1 Axes>"
      ]
     },
     "metadata": {
      "needs_background": "light"
     },
     "output_type": "display_data"
    }
   ],
   "source": [
    "fig, ax = plt.subplots(figsize=(10,8))\n",
    "ax.scatter(y = data['Life expectancy '],x = data['Schooling'])\n",
    "\n",
    "Y_model = modele_simple.predict(data[['Schooling']])\n",
    "ax.plot(data['Schooling'],Y_model,\"red\")\n",
    "\n",
    "plt.xlabel(\"Temps d'étude\")\n",
    "plt.ylabel(\"Espérance de vie\")\n",
    "plt.title(\"Espérance de vie vs. Temps d'étude\")\n",
    "plt.show()"
   ]
  },
  {
   "cell_type": "code",
   "execution_count": 14,
   "id": "2cbe4bfd",
   "metadata": {},
   "outputs": [
    {
     "data": {
      "text/plain": [
       "4.953906804181933"
      ]
     },
     "execution_count": 14,
     "metadata": {},
     "output_type": "execute_result"
    }
   ],
   "source": [
    "mean_squared_error(y_true = data['Life expectancy '], \n",
    "                   y_pred = Y_model,\n",
    "                   squared=False)"
   ]
  },
  {
   "cell_type": "markdown",
   "id": "09d8e48f",
   "metadata": {},
   "source": [
    "# Nouvelle donnée"
   ]
  },
  {
   "cell_type": "markdown",
   "id": "bcc4eaf9",
   "metadata": {},
   "source": [
    "https://www.nationmaster.com/country-info/profiles/Benin/Education"
   ]
  },
  {
   "cell_type": "code",
   "execution_count": 15,
   "id": "e5ae6329",
   "metadata": {},
   "outputs": [],
   "source": [
    "nouvelle_donnee = pd.DataFrame({\"Schooling\":[5]}\n",
    ")"
   ]
  },
  {
   "cell_type": "code",
   "execution_count": 16,
   "id": "86f7108c",
   "metadata": {},
   "outputs": [
    {
     "data": {
      "text/plain": [
       "array([53.19804459])"
      ]
     },
     "execution_count": 16,
     "metadata": {},
     "output_type": "execute_result"
    }
   ],
   "source": [
    "modele_simple.predict(nouvelle_donnee)"
   ]
  },
  {
   "cell_type": "markdown",
   "id": "9a0305b4",
   "metadata": {},
   "source": [
    "# **FIN** "
   ]
  }
 ],
 "metadata": {
  "kernelspec": {
   "display_name": "Python 3 (ipykernel)",
   "language": "python",
   "name": "python3"
  },
  "language_info": {
   "codemirror_mode": {
    "name": "ipython",
    "version": 3
   },
   "file_extension": ".py",
   "mimetype": "text/x-python",
   "name": "python",
   "nbconvert_exporter": "python",
   "pygments_lexer": "ipython3",
   "version": "3.8.11"
  },
  "toc": {
   "base_numbering": 1,
   "nav_menu": {},
   "number_sections": true,
   "sideBar": true,
   "skip_h1_title": false,
   "title_cell": "Table of Contents",
   "title_sidebar": "Contents",
   "toc_cell": false,
   "toc_position": {},
   "toc_section_display": true,
   "toc_window_display": false
  },
  "vscode": {
   "interpreter": {
    "hash": "397704579725e15f5c7cb49fe5f0341eb7531c82d19f2c29d197e8b64ab5776b"
   }
  }
 },
 "nbformat": 4,
 "nbformat_minor": 5
}
