{
 "cells": [
  {
   "cell_type": "markdown",
   "metadata": {},
   "source": [
    "# Introduction"
   ]
  },
  {
   "cell_type": "markdown",
   "metadata": {},
   "source": [
    "## Imports"
   ]
  },
  {
   "cell_type": "code",
   "execution_count": null,
   "metadata": {},
   "outputs": [],
   "source": [
    "from pathlib import Path\n",
    "import pandas as pd\n",
    "import numpy as np\n",
    "from sklearn.linear_model import LinearRegression\n",
    "from matplotlib import pyplot as plt\n",
    "import seaborn as sns\n",
    "from reglin.metrics.errors import erreur_pour_plusieurs_parametres\n",
    "from mpl_toolkits import mplot3d\n",
    "from cloud_io.gcp.io import download_file\n",
    "from reglin.tools.common_path import ROOT_PATH, BUCKET_NAME\n",
    "import matplotlib\n",
    "from IPython.display import display, HTML\n",
    "\n",
    "%matplotlib inline\n",
    "%load_ext autoreload\n",
    "%autoreload 2"
   ]
  },
  {
   "cell_type": "code",
   "execution_count": null,
   "metadata": {},
   "outputs": [],
   "source": [
    "display(HTML(\"<style>.container { width:95% !important; }</style>\"))"
   ]
  },
  {
   "cell_type": "code",
   "execution_count": null,
   "metadata": {},
   "outputs": [],
   "source": [
    "matplotlib.rcParams.update({'font.size': 22})\n"
   ]
  },
  {
   "cell_type": "markdown",
   "metadata": {},
   "source": [
    "## Rappel sur les fonctions"
   ]
  },
  {
   "attachments": {
    "Sans%20titre-3.png": {
     "image/png": "[encoded data removed]"
    }
   },
   "cell_type": "markdown",
   "metadata": {},
   "source": [
    "![Sans%20titre-3.png](attachment:Sans%20titre-3.png)"
   ]
  },
  {
   "cell_type": "code",
   "execution_count": null,
   "metadata": {},
   "outputs": [],
   "source": [
    "VERBOSE = True"
   ]
  },
  {
   "cell_type": "code",
   "execution_count": null,
   "metadata": {},
   "outputs": [],
   "source": [
    "## Exemple de fonctions \n",
    "\n",
    "fonctions = [np.cos, np.exp, lambda x: 2 * x + 3]\n",
    "X = [np.linspace(-2 * np.pi, 2 * np.pi, 100), np.linspace(-2, 3, 100), np.linspace(-10, 10, 100)]\n",
    "titles = ['f(x) = Cos(x)', 'f(x) = exp(x)', 'f(x) = 2x + 3' ]\n",
    "\n",
    "if VERBOSE:\n",
    "    plt.figure(figsize = (30, 7))\n",
    "    for k in range(len(fonctions)):\n",
    "        plt.subplot(1, 3, k+1)\n",
    "        plt.plot(X[k], fonctions[k](X[k]))\n",
    "        plt.title(titles[k])\n",
    "        plt.grid(True)\n"
   ]
  },
  {
   "cell_type": "markdown",
   "metadata": {},
   "source": [
    "## Contexte"
   ]
  },
  {
   "cell_type": "markdown",
   "metadata": {},
   "source": [
    "\n",
    "Une problématique du *Machine Learning* est de permettre à la machine de comprendre la relation entre différentes variables. Cette compréhension lui permettra de faire des prédictions.\n"
   ]
  },
  {
   "cell_type": "markdown",
   "metadata": {},
   "source": [
    "Etant donné deux variables X et Y:"
   ]
  },
  {
   "cell_type": "code",
   "execution_count": null,
   "metadata": {},
   "outputs": [],
   "source": [
    "np.random.seed(42)\n",
    "\n",
    "X = np.random.randn(50)\n",
    "Y = 3 * X + np.random.randn(50) / 0.5\n",
    "\n",
    "if VERBOSE:\n",
    "    plt.figure(figsize=(12, 7))\n",
    "    plt.grid(True)\n",
    "\n",
    "    plt.scatter(X, Y)\n",
    "    plt.ylabel('Y')\n",
    "    plt.xlabel('X')"
   ]
  },
  {
   "cell_type": "markdown",
   "metadata": {},
   "source": [
    "\n",
    "Un problème de régression peut se représenter comme un processus d’entrée/sortie:\n",
    "\n",
    "Trouver \"le bon\" $\\hat{f}$ tel que $$ Y \\simeq \\hat{f}(X) $$\n",
    "\n",
    "\n",
    "X est la variable explicative et Y qui est une information continue, est la variable à expliquer."
   ]
  },
  {
   "cell_type": "markdown",
   "metadata": {},
   "source": [
    "C'est une tâche complexe de trouver $\\hat{f}$ parmi l'ensemble de toutes les fonctions possibles. Nous allons donc chercher $\\hat{f}$ parmi les fonction affines."
   ]
  },
  {
   "cell_type": "code",
   "execution_count": null,
   "metadata": {},
   "outputs": [],
   "source": [
    "params = [(2, 3), (3, 0), (1, -2)]\n",
    "\n",
    "if VERBOSE:\n",
    "    plt.figure(figsize=(40, 7))\n",
    "    plt.grid(True)\n",
    "\n",
    "    for k in range(len(params)):\n",
    "        plt.subplot(1, 3, k+1)\n",
    "        plt.grid(True)\n",
    "        plt.scatter(X, Y, label='échantillon')\n",
    "        plt.ylabel('Y')\n",
    "        plt.xlabel('X')\n",
    "\n",
    "        plt.plot(np.linspace(-3, 3, 100), params[k][0] * np.linspace(-3, 3, 100) + params[k][1], label='prédiction', color='red')\n",
    "\n",
    "        plt.title('Modèle $\\hat{f}$ ' + str(k))\n",
    "        plt.legend()"
   ]
  },
  {
   "cell_type": "markdown",
   "metadata": {},
   "source": [
    "Points extrémaux"
   ]
  },
  {
   "cell_type": "code",
   "execution_count": null,
   "metadata": {},
   "outputs": [],
   "source": [
    "X = np.random.randn(50)\n",
    "Y = 3 * X + np.random.randn(50) / 0.5\n",
    "\n",
    "X = np.hstack((X, np.array([1, -1])))\n",
    "Y = np.hstack((Y, np.array([20, -30])))\n",
    "\n",
    "params = [ (3, 0), (13, 0)]\n",
    "\n",
    "if VERBOSE:\n",
    "    plt.figure(figsize=(40, 7))\n",
    "    plt.grid(True)\n",
    "\n",
    "    for k in range(len(params)):\n",
    "        plt.subplot(1, 3, k+1)\n",
    "        plt.grid(True)\n",
    "        plt.scatter(X, Y, label='échantillon')\n",
    "        plt.ylabel('Y')\n",
    "        plt.xlabel('X')\n",
    "\n",
    "        plt.plot(np.linspace(-3, 3, 100), params[k][0] * np.linspace(-3, 3, 100) + params[k][1], label='prédiction', color='red')\n",
    "\n",
    "        plt.title('Modèle $\\hat{f}$ ' + str(k))\n",
    "        plt.legend()"
   ]
  },
  {
   "cell_type": "markdown",
   "metadata": {},
   "source": [
    "Aujourd'hui, nous allons sur un dataset données:\n",
    "\n",
    "- visualiser les donner\n",
    "- prétraiter les données\n",
    "- entraîner le modèle pour fitter les données"
   ]
  },
  {
   "cell_type": "markdown",
   "metadata": {},
   "source": [
    "# Sujet: la consommation de poulet \n",
    "\n",
    "Quelle est la relation entre la population et le nombre de poulet d’élevage?\n",
    "\n",
    "## Description des données\n",
    "<a name=\"Desc\"></a>"
   ]
  },
  {
   "cell_type": "code",
   "execution_count": null,
   "metadata": {},
   "outputs": [],
   "source": [
    "FIGSIZE = (10,8)\n",
    "\n",
    "PREDICTOR_COL = \"Population\"\n",
    "TARGET_COL = \"taille du bétail\""
   ]
  },
  {
   "cell_type": "markdown",
   "metadata": {},
   "source": [
    "## 0 - chargez et faites une rapide analyse descriptive"
   ]
  },
  {
   "cell_type": "code",
   "execution_count": null,
   "metadata": {},
   "outputs": [],
   "source": [
    "csv_kwargs = dict(sep=\";\", encoding = \"ISO-8859-1\")"
   ]
  },
  {
   "cell_type": "code",
   "execution_count": null,
   "metadata": {
    "scrolled": false
   },
   "outputs": [],
   "source": [
    "download_path = Path(ROOT_PATH, \"data/chicken.csv\")\n",
    "path_data = download_file(download_path, bucket_as_local=ROOT_PATH, bucket_name=BUCKET_NAME)"
   ]
  },
  {
   "cell_type": "code",
   "execution_count": null,
   "metadata": {
    "scrolled": false
   },
   "outputs": [],
   "source": [
    "chicken = pd.read_csv(\n",
    "    path_data,\n",
    "    **csv_kwargs,\n",
    ")"
   ]
  },
  {
   "cell_type": "code",
   "execution_count": null,
   "metadata": {},
   "outputs": [],
   "source": [
    "if VERBOSE:\n",
    "    display(chicken.head())"
   ]
  },
  {
   "cell_type": "markdown",
   "metadata": {},
   "source": [
    "Nous avons quatre variables dans la base de données. Une ligne de la base donne la population et la taille du bétail d’un certain nombre de pays. "
   ]
  },
  {
   "cell_type": "code",
   "execution_count": null,
   "metadata": {},
   "outputs": [],
   "source": [
    "if VERBOSE:\n",
    "    sample_country = \"TCD\"\n",
    "    display(chicken.query(\"Code == @sample_country\"))"
   ]
  },
  {
   "cell_type": "code",
   "execution_count": null,
   "metadata": {},
   "outputs": [],
   "source": [
    "chicken[chicken.Pays == \"Bénin\"]"
   ]
  },
  {
   "cell_type": "code",
   "execution_count": null,
   "metadata": {},
   "outputs": [],
   "source": [
    "expected_shape = (27, 5)\n",
    "np.testing.assert_allclose(chicken.shape, expected_shape)"
   ]
  },
  {
   "cell_type": "code",
   "execution_count": null,
   "metadata": {},
   "outputs": [],
   "source": [
    "if VERBOSE:\n",
    "    display(chicken.describe())"
   ]
  },
  {
   "cell_type": "markdown",
   "metadata": {},
   "source": [
    "## 1 - Identification des valeurs extrêmes"
   ]
  },
  {
   "cell_type": "code",
   "execution_count": null,
   "metadata": {},
   "outputs": [],
   "source": [
    "max_pop = max(chicken.Population)\n",
    "chicken[chicken.Population == max_pop]"
   ]
  },
  {
   "cell_type": "code",
   "execution_count": null,
   "metadata": {},
   "outputs": [],
   "source": [
    "df_chicken_sorted = chicken.sort_values(by=TARGET_COL, ascending=False)\n",
    "highests = df_chicken_sorted.head(2)"
   ]
  },
  {
   "cell_type": "code",
   "execution_count": null,
   "metadata": {},
   "outputs": [],
   "source": [
    "highests"
   ]
  },
  {
   "cell_type": "code",
   "execution_count": null,
   "metadata": {},
   "outputs": [],
   "source": [
    "if VERBOSE:\n",
    "    fig, ax = plt.subplots(figsize=FIGSIZE)\n",
    "    sns.boxplot(y=TARGET_COL, x=\"Unit\", data=chicken, ax=ax)\n",
    "    plt.show()"
   ]
  },
  {
   "cell_type": "code",
   "execution_count": null,
   "metadata": {},
   "outputs": [],
   "source": [
    "expected_code_countries = {18: 'MAR', 25: 'TUN'}\n",
    "assert highests[\"Code\"].to_dict() == expected_code_countries"
   ]
  },
  {
   "cell_type": "markdown",
   "metadata": {},
   "source": [
    "## 2 - visualisation de la relation entre les variables"
   ]
  },
  {
   "cell_type": "code",
   "execution_count": null,
   "metadata": {},
   "outputs": [],
   "source": [
    "outliers_labels = {}\n",
    "for outlier in highests.to_dict(orient=\"records\"):\n",
    "    outlier_label = dict(\n",
    "        x=outlier[PREDICTOR_COL]+100,\n",
    "        y=outlier[TARGET_COL]+10,\n",
    "        s=outlier[\"Pays\"]\n",
    "    )\n",
    "    outliers_labels[outlier[\"Code\"]] = outlier_label"
   ]
  },
  {
   "cell_type": "code",
   "execution_count": null,
   "metadata": {},
   "outputs": [],
   "source": [
    "if VERBOSE:\n",
    "    fig, ax = plt.subplots(figsize=FIGSIZE)\n",
    "    sns.scatterplot(data=chicken, x=PREDICTOR_COL, y=TARGET_COL, ax=ax)\n",
    "    for country_code in outliers_labels:\n",
    "        plt.text(**outliers_labels[country_code])\n",
    "\n",
    "    plt.show()"
   ]
  },
  {
   "cell_type": "markdown",
   "metadata": {},
   "source": [
    "## Construction du modèle\n",
    "<a name=\"Construction\"></a>"
   ]
  },
  {
   "cell_type": "markdown",
   "metadata": {},
   "source": [
    "On élimine les outliers Tunisie et Maroc"
   ]
  },
  {
   "cell_type": "code",
   "execution_count": null,
   "metadata": {},
   "outputs": [],
   "source": [
    "df = chicken.drop(highests.index)\n",
    "X, y = df[[PREDICTOR_COL]], df[TARGET_COL]"
   ]
  },
  {
   "cell_type": "code",
   "execution_count": null,
   "metadata": {},
   "outputs": [],
   "source": [
    "assert \"MAR\" not in df[\"Code\"] and \"TUN\" not in df[\"Code\"]"
   ]
  },
  {
   "cell_type": "markdown",
   "metadata": {},
   "source": [
    "## 3 - Calibrage et prédiction du modèle"
   ]
  },
  {
   "cell_type": "code",
   "execution_count": null,
   "metadata": {},
   "outputs": [],
   "source": [
    "regressor = LinearRegression()\n",
    "# Calibrage du modèle: détermination des coefficient\n",
    "regressor.fit(X, y)"
   ]
  },
  {
   "cell_type": "code",
   "execution_count": null,
   "metadata": {},
   "outputs": [],
   "source": [
    "Y_model = regressor.predict(X)"
   ]
  },
  {
   "cell_type": "code",
   "execution_count": null,
   "metadata": {},
   "outputs": [],
   "source": [
    "expected_Y_model = [\n",
    "    19039.50424144, 29456.62073701, 18587.14761474, 36436.9298933 ,\n",
    "    24030.48360293, 11160.48285208, 36269.88352178,  7203.26661398,\n",
    "    7396.94015841, 42355.35466942, 20198.82887378,  6895.77505979,\n",
    "    7237.81113218, 10629.79205785, 13070.3403772 , 37741.97317476,\n",
    "    28572.00615962, 10084.57617003, 41741.52785203,  7642.11152571,\n",
    "    32586.64588714, 23474.87408821, 57545.54294173, 14522.52623467,\n",
    "    57999.05456022\n",
    "]\n",
    "np.testing.assert_allclose(Y_model, expected_Y_model)"
   ]
  },
  {
   "cell_type": "code",
   "execution_count": null,
   "metadata": {},
   "outputs": [],
   "source": [
    "# Visualisation\n",
    "if VERBOSE:\n",
    "    fig, ax = plt.subplots(1,1, figsize=FIGSIZE)\n",
    "    ax.plot(df[PREDICTOR_COL], df[TARGET_COL], \"o\", label='échantillon')\n",
    "    ax.plot(df[[PREDICTOR_COL]], Y_model, label='prédiction')\n",
    "    plt.xlabel(PREDICTOR_COL)\n",
    "    plt.legend()\n",
    "    plt.ylabel(TARGET_COL)\n",
    "    plt.show()\n"
   ]
  },
  {
   "cell_type": "markdown",
   "metadata": {},
   "source": [
    "## 2 - Description de l'erreur (approfondissement)"
   ]
  },
  {
   "cell_type": "code",
   "execution_count": null,
   "metadata": {},
   "outputs": [],
   "source": [
    "DIM_X = 200\n",
    "DIM_Y = 200\n",
    "\n",
    "coeff = np.linspace(0,0.002,DIM_X)\n",
    "intercept = np.linspace(2000,10700,DIM_Y)\n",
    "\n",
    "coeff_matrix, intercept_matrix = np.meshgrid(coeff, intercept)"
   ]
  },
  {
   "cell_type": "code",
   "execution_count": null,
   "metadata": {},
   "outputs": [],
   "source": [
    "erreur_quadratique = erreur_pour_plusieurs_parametres(\n",
    "    coefficient_matrix = coeff_matrix, intercept_matrix = intercept_matrix, df = df, predictor_col = PREDICTOR_COL, target_col = TARGET_COL\n",
    ")"
   ]
  },
  {
   "cell_type": "code",
   "execution_count": null,
   "metadata": {},
   "outputs": [],
   "source": [
    "coeff_matrix.shape"
   ]
  },
  {
   "cell_type": "code",
   "execution_count": null,
   "metadata": {},
   "outputs": [],
   "source": [
    "intercept_matrix.shape"
   ]
  },
  {
   "cell_type": "code",
   "execution_count": null,
   "metadata": {},
   "outputs": [],
   "source": [
    "erreur_quadratique.shape"
   ]
  },
  {
   "cell_type": "code",
   "execution_count": null,
   "metadata": {},
   "outputs": [],
   "source": [
    "if VERBOSE:\n",
    "\n",
    "    plt.figure(figsize=FIGSIZE)\n",
    "\n",
    "    ax = plt.axes(projection='3d')\n",
    "    ax.plot_surface(coeff_matrix, intercept_matrix, erreur_quadratique, rstride=1, cstride=1,\n",
    "                    cmap='viridis', edgecolor='none')\n",
    "    ax.set_title(\"surface de l'erreur\");"
   ]
  },
  {
   "cell_type": "markdown",
   "metadata": {},
   "source": [
    "## Qu'est-ce qu'on retient? "
   ]
  },
  {
   "cell_type": "markdown",
   "metadata": {},
   "source": [
    "1. La Régression linéaire est un modèle où l'espérance de variable à expliquer est une fonction affine des paramètres\n",
    "2. La moyenne est très sensible au valeur extrême. Il faut donc les identifier et les traiter\n",
    "3. Le calibrage du modèle est une réduction (optimisation) de l'erreur quadratique"
   ]
  },
  {
   "cell_type": "markdown",
   "metadata": {},
   "source": [
    "## Pour aller plus loin"
   ]
  },
  {
   "cell_type": "markdown",
   "metadata": {},
   "source": [
    "1. Quels sont les hypothèses de la regression linéaire?\n",
    "2. Comment les tester?\n",
    "3. Que ferait-on si l'on avait plusieurs variables axplicatives?\n",
    "4. Qu'aurait-on eu si nous avions gardé les valeurs aberrantes?"
   ]
  },
  {
   "cell_type": "markdown",
   "metadata": {},
   "source": [
    "---\n",
    "# End of script\n",
    "---"
   ]
  }
 ],
 "metadata": {
  "kernelspec": {
   "display_name": "venv",
   "language": "python",
   "name": "venv"
  },
  "language_info": {
   "codemirror_mode": {
    "name": "ipython",
    "version": 3
   },
   "file_extension": ".py",
   "mimetype": "text/x-python",
   "name": "python",
   "nbconvert_exporter": "python",
   "pygments_lexer": "ipython3",
   "version": "3.8.11"
  },
  "toc": {
   "base_numbering": 1,
   "nav_menu": {},
   "number_sections": true,
   "sideBar": true,
   "skip_h1_title": false,
   "title_cell": "Table of Contents",
   "title_sidebar": "Contents",
   "toc_cell": false,
   "toc_position": {},
   "toc_section_display": true,
   "toc_window_display": false
  }
 },
 "nbformat": 4,
 "nbformat_minor": 4
}
