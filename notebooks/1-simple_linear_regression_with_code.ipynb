{
 "cells": [
  {
   "cell_type": "markdown",
   "metadata": {},
   "source": [
    "# Introduction"
   ]
  },
  {
   "cell_type": "markdown",
   "metadata": {},
   "source": [
    "La régression linéaire est le modèle de Machine Learning le plus simple pour prédire des valeurs continues. Elle permet d'apprendre la relation entre une variable dépendante et une ou plusieurs variables indépendantes aussi appellées variables explicatives. Il est aussi important de noter que ce type de modèle fonctionne bien quand la dite relation est linéaire.\n",
    "\n",
    "Les objectifs du cours sont listés ci-dessous:\n",
    "- Situer la régression lineaire dans le paysage des algorithmes de Machine Learning\n",
    "- Comprendre dans quel contexte utiliser la regression lineaire\n",
    "- Entrainer un modele de régression lineaire\n",
    "- Evaluer les performances du modèle afin de l'améliorer\n"
   ]
  },
  {
   "cell_type": "markdown",
   "metadata": {},
   "source": [
    "##### Importation de librairies"
   ]
  },
  {
   "cell_type": "code",
   "execution_count": null,
   "metadata": {},
   "outputs": [],
   "source": [
    "from pathlib import Path\n",
    "import pandas as pd\n",
    "import numpy as np\n",
    "from sklearn.linear_model import LinearRegression\n",
    "from matplotlib import pyplot as plt\n",
    "import seaborn as sns\n",
    "from mpl_toolkits import mplot3d\n",
    "import matplotlib\n",
    "from IPython.display import display, HTML\n",
    "\n",
    "%matplotlib inline\n",
    "%load_ext autoreload\n",
    "%autoreload 2"
   ]
  },
  {
   "cell_type": "code",
   "execution_count": null,
   "metadata": {},
   "outputs": [],
   "source": [
    "display(HTML(\"<style>.container { width:95% !important; }</style>\"))\n",
    "matplotlib.rcParams.update({'font.size': 22})"
   ]
  },
  {
   "cell_type": "markdown",
   "metadata": {},
   "source": [
    "## 1. Quelle fonction pour quel dataset?"
   ]
  },
  {
   "cell_type": "markdown",
   "metadata": {},
   "source": [
    "Ci-dessous vous pouvez observer 3 jeux de donnees differents. \n",
    "   \n",
    "    Question:\n",
    "    - Pouvez vous reconnaitre des fonctions usuelles qui suivent la tendance de ces nuages de points?"
   ]
  },
  {
   "cell_type": "code",
   "execution_count": null,
   "metadata": {},
   "outputs": [],
   "source": [
    "VERBOSE = True"
   ]
  },
  {
   "cell_type": "code",
   "execution_count": null,
   "metadata": {},
   "outputs": [],
   "source": [
    "## Exemple de nuages de points\n",
    "\n",
    "fonctions = [np.cos,np.exp, lambda x: 2 * x + 3]\n",
    "X = [np.linspace(-2 * np.pi, 2 * np.pi, 100), np.linspace(-2, 3, 100), np.linspace(-10, 10, 100)]\n",
    "noise = [3, 0.6, 0.2]\n",
    "titles = ['dataset 1', 'dataset 2', 'f(x) = dataset 3' ]\n",
    "\n",
    "if VERBOSE:\n",
    "    plt.figure(figsize = (30, 7))\n",
    "    for k in range(len(fonctions)):\n",
    "        plt.subplot(1, 3, k+1)\n",
    "        plt.scatter(X[k], fonctions[k](X[k])+np.random.randn(100)/noise[k])\n",
    "        plt.title(titles[k])\n",
    "        plt.ylabel('Y')\n",
    "        plt.xlabel('X')\n",
    "        plt.grid(True)\n"
   ]
  },
  {
   "cell_type": "markdown",
   "metadata": {},
   "source": [
    "Nous pouvons observer que pour chaque element x nous pourrions, a une erreur pres, predire la valeur de y, moyennant une fonction ${f}$ à definir telle que:\n",
    " $$ Y \\simeq {f}(X) $$\n",
    "\n",
    "\n",
    "**Approcher un nuage de point par une fonction lineaire des variables d'entrée (X) s'appelle \"regression linéaire\". X est la variable explicative et Y est la variable que la fonction ${f}$ tente d'approcher. Y est une variable continue, c'est la variable à expliquer.**"
   ]
  },
  {
   "attachments": {
    "Sans%20titre-3.png": {
     "image/png": "[encoded data removed]"
    }
   },
   "cell_type": "markdown",
   "metadata": {},
   "source": [
    "<center>\n",
    "\n",
    "![Sans%20titre-3.png](attachment:Sans%20titre-3.png)  \n",
    "\n",
    "</center>\n"
   ]
  },
  {
   "cell_type": "code",
   "execution_count": null,
   "metadata": {},
   "outputs": [],
   "source": [
    "## Exemple de fonctions \n",
    "\n",
    "fonctions = [np.cos, np.exp, lambda x: 2 * x + 3]\n",
    "X = [np.linspace(-2 * np.pi, 2 * np.pi, 100), np.linspace(-2, 3, 100), np.linspace(-10, 10, 100)]\n",
    "\n",
    "titles = ['y ~ f(x) = Cos(x)', 'y ~ f(x) = exp(x)', 'y ~ f(x) = 2x + 3' ]\n",
    "\n",
    "if VERBOSE:\n",
    "    plt.figure(figsize = (30, 7))\n",
    "    for k in range(len(fonctions)):\n",
    "        plt.subplot(1, 3, k+1)\n",
    "        plt.plot(X[k], fonctions[k](X[k]))\n",
    "        plt.scatter(X[k], fonctions[k](X[k])+np.random.randn(100)/noise[k])\n",
    "        plt.title(titles[k])\n",
    "        plt.grid(True)\n"
   ]
  },
  {
   "cell_type": "markdown",
   "metadata": {},
   "source": [
    "    Question:\n",
    "    - Quelle figure se prete le mieux a l'utilisation d'une regression lineaire ?"
   ]
  },
  {
   "cell_type": "markdown",
   "metadata": {},
   "source": [
    "### Example d'un dataset propice a l'utilisation de la regression lineaire"
   ]
  },
  {
   "cell_type": "markdown",
   "metadata": {},
   "source": [
    "\n",
    "Etant donne deux variables ${X}$ et ${Y}$ representes dans le nuage de points ci-dessous, nous allons essayer de trouver des fonctions affines qui permettraient d'expliquer leur relation au mieux. Par expliquer nous entendons permettre une bonne approximation de ${f(X)}$ pour chaque valeurde ${X}$"
   ]
  },
  {
   "cell_type": "code",
   "execution_count": null,
   "metadata": {},
   "outputs": [],
   "source": [
    "np.random.seed(42)\n",
    "\n",
    "X = np.random.randn(50)\n",
    "Y = 3 * X + np.random.randn(50) / 0.5\n",
    "\n",
    "if VERBOSE:\n",
    "    plt.figure(figsize=(12, 7))\n",
    "    plt.grid(True)\n",
    "\n",
    "    plt.scatter(X, Y)\n",
    "    plt.ylabel('Y')\n",
    "    plt.xlabel('X')"
   ]
  },
  {
   "cell_type": "markdown",
   "metadata": {},
   "source": [
    "Nous allons positionner 3 variantes de la fonction ${f}$ parmi les fonctions affines.\n",
    "\n",
    "    Question:\n",
    "    - Quelle fonction vous semble la plus appropriée et pourquoi?"
   ]
  },
  {
   "cell_type": "code",
   "execution_count": null,
   "metadata": {},
   "outputs": [],
   "source": [
    "params = [(2, 3), (3, 0), (1, -2)]\n",
    "\n",
    "if VERBOSE:\n",
    "    plt.figure(figsize=(40, 7))\n",
    "    plt.grid(True)\n",
    "\n",
    "    for k in range(len(params)):\n",
    "        plt.subplot(1, 3, k+1)\n",
    "        plt.grid(True)\n",
    "        plt.scatter(X, Y, label='échantillon')\n",
    "        plt.ylabel('Y')\n",
    "        plt.xlabel('X')\n",
    "\n",
    "        plt.plot(np.linspace(-3, 3, 100), params[k][0] * np.linspace(-3, 3, 100) + params[k][1], label='prédiction', color='red')\n",
    "\n",
    "        plt.title('Modèle $\\hat{f}$ ' + str(k))\n",
    "        plt.legend()"
   ]
  },
  {
   "cell_type": "markdown",
   "metadata": {},
   "source": [
    "##### Points extrémaux ou outliers"
   ]
  },
  {
   "cell_type": "markdown",
   "metadata": {},
   "source": [
    "Nous ajoutons au jeux de données deux points relativement éloignés du nuage de point original.\n",
    "\n",
    "Que pouvez vous observer comme impact sur la droite de regression? Comment l'expliquez vous?"
   ]
  },
  {
   "cell_type": "code",
   "execution_count": null,
   "metadata": {},
   "outputs": [],
   "source": [
    "X = np.random.randn(50)\n",
    "Y = 3 * X + np.random.randn(50) / 0.5\n",
    "\n",
    "X = np.hstack((X, np.array([1, -1])))\n",
    "Y = np.hstack((Y, np.array([20, -30])))\n",
    "\n",
    "params = [ (3, 0), (13, 0)]\n",
    "\n",
    "if VERBOSE:\n",
    "    plt.figure(figsize=(40, 7))\n",
    "    plt.grid(True)\n",
    "\n",
    "    \n",
    "    plt.subplot(1, 3, 1)\n",
    "    plt.grid(True)\n",
    "    plt.scatter(X, Y, label='échantillon')\n",
    "    plt.ylabel('Y')\n",
    "    plt.xlabel('X')\n",
    "\n",
    "    plt.plot(np.linspace(-3, 3, 100), params[0][0] * np.linspace(-3, 3, 100) + params[0][1], label='pred sans extrémaux', color='red')\n",
    "    plt.plot(np.linspace(-3, 3, 100), params[1][0] * np.linspace(-3, 3, 100) + params[1][1], label='pred avec extrémaux', color='green')\n",
    "\n",
    "    plt.title('\\nModèle avec et sans extrémaux\\n')\n",
    "    plt.legend()\n",
    "    "
   ]
  },
  {
   "cell_type": "markdown",
   "metadata": {},
   "source": [
    "**Dans ce qui precede les droites ont ete definie manuellement. La regression lineaire en tant que modele de Machine Learning, nous permettra de trouver automatiquement la droite optimale.**"
   ]
  },
  {
   "cell_type": "markdown",
   "metadata": {},
   "source": [
    "# 2. Sujet: la consommation de poulet dans differents pays\n",
    "\n",
    "Dans cette section, vous allez travailler sur un jeux de données qui represente la consommation de poulets dans differents pays.\n",
    "\n",
    "L'objectif est d'étudier la relation entre la population et le nombre de poulet d’élevage pour chaque pays. Pour cela, vous allez:\n",
    "\n",
    "- Explorer les donnees en utilisant les statistiques descriptives et en les visualisant\n",
    "- Pretraiter les donnees et evaluer l'impact des traitements effectues sur les modeles entraines\n",
    "\n",
    "## 2.1 Regression Lineaire sur le dataset brut\n",
    "<a name=\"Desc\"></a>\n",
    "\n",
    "### 2.1.1 - Description du dataset\n",
    "Chargez les données et faites une analyse descriptive:"
   ]
  },
  {
   "cell_type": "code",
   "execution_count": null,
   "metadata": {},
   "outputs": [],
   "source": [
    "FIGSIZE = (10,8)\n",
    "\n",
    "PREDICTOR_COL = \"Population\"\n",
    "TARGET_COL = \"taille du bétail\""
   ]
  },
  {
   "cell_type": "code",
   "execution_count": null,
   "metadata": {},
   "outputs": [],
   "source": [
    "csv_kwargs = dict(sep=\";\", encoding = \"ISO-8859-1\")"
   ]
  },
  {
   "cell_type": "code",
   "execution_count": 1,
   "metadata": {
    "scrolled": false
   },
   "outputs": [],
   "source": [
    "path_data = 'chicken.csv'"
   ]
  },
  {
   "cell_type": "code",
   "execution_count": null,
   "metadata": {
    "scrolled": false
   },
   "outputs": [],
   "source": [
    "chicken = pd.read_csv(\n",
    "    path_data,\n",
    "    **csv_kwargs,\n",
    ")"
   ]
  },
  {
   "cell_type": "markdown",
   "metadata": {},
   "source": [
    "Etudions à quel point une population donnée **( colonne \"Population\" )** influence la taille du bétail **( colonne \"taille du bétail\" )**. Chaque ligne du dataframe donne un point de mesure."
   ]
  },
  {
   "cell_type": "code",
   "execution_count": null,
   "metadata": {},
   "outputs": [],
   "source": [
    "if VERBOSE:\n",
    "    display(chicken.head())"
   ]
  },
  {
   "cell_type": "code",
   "execution_count": null,
   "metadata": {},
   "outputs": [],
   "source": [
    "chicken[chicken.Pays == \"Bénin\"]"
   ]
  },
  {
   "cell_type": "code",
   "execution_count": null,
   "metadata": {},
   "outputs": [],
   "source": [
    "expected_shape = (27, 5)\n",
    "np.testing.assert_allclose(chicken.shape, expected_shape)"
   ]
  },
  {
   "cell_type": "code",
   "execution_count": null,
   "metadata": {},
   "outputs": [],
   "source": [
    "if VERBOSE:\n",
    "    display(chicken.describe())"
   ]
  },
  {
   "cell_type": "markdown",
   "metadata": {},
   "source": [
    "Entrainons un modele de regression lineaire sur le jeux de donnees original:"
   ]
  },
  {
   "cell_type": "code",
   "execution_count": null,
   "metadata": {},
   "outputs": [],
   "source": [
    "X, y = chicken[[PREDICTOR_COL]], chicken[TARGET_COL]"
   ]
  },
  {
   "cell_type": "markdown",
   "metadata": {},
   "source": [
    "### 2.1.2 - Trouver le modele de regression lineaire adequat"
   ]
  },
  {
   "cell_type": "markdown",
   "metadata": {},
   "source": [
    "Faire de la regression lineaire revient a trouver l'equation de la droite qui relie la variable X - la colonne **\"Population\"** - et la valeur y correspondante -la colonne **\"taille du betail\"**.\n",
    "\n",
    "La droite ayant pour equation: \n",
    " $$ y = aX +b $$    \n",
    "où ${a}$ et ${b}$ sont les parametres du modele de regression lineaire.\n",
    "\n",
    "Il faut donc trouver les valeurs de ${a}$ et de ${b}$ de facon a representer au mieux possible le lien entre ${X}$ et ${y}$.\n",
    "\n",
    "        Question: \n",
    "        - Que veut dire representer au mieux possible ce lien?\n",
    "        - Comment trouver les parametres ${a}$ et ${b}$ ?\n",
    "        "
   ]
  },
  {
   "cell_type": "code",
   "execution_count": null,
   "metadata": {},
   "outputs": [],
   "source": [
    "regressor = LinearRegression()\n",
    "# Calibrage du modèle: détermination des coefficient\n",
    "regressor.fit(X, y)"
   ]
  },
  {
   "cell_type": "code",
   "execution_count": null,
   "metadata": {},
   "outputs": [],
   "source": [
    "Y_model_brut = regressor.predict(X)"
   ]
  },
  {
   "cell_type": "code",
   "execution_count": null,
   "metadata": {},
   "outputs": [],
   "source": [
    "expected_Y_model_brut = [\n",
    "    24091.02145505, 40041.13285114, 23398.39806068, 50728.99533875,\n",
    "    31732.93242199, 12027.10060843, 50473.22319344,  5968.03043839,\n",
    "    6264.57263501, 59790.95931973, 25866.11507505,  5497.21641372,\n",
    "    6020.92308998, 11214.53627852, 14951.36859462, 52727.20527764,\n",
    "    38686.66004113, 10379.73193036, 72641.27965191, 58851.10171908,\n",
    "    6639.9654437 , 44833.65387539, 30882.21392841, 83049.33366681,\n",
    "    17174.87509033, 24604.72808018, 83743.72552058\n",
    "]\n",
    "np.testing.assert_allclose(Y_model_brut, expected_Y_model_brut)"
   ]
  },
  {
   "cell_type": "code",
   "execution_count": null,
   "metadata": {},
   "outputs": [],
   "source": [
    "# Visualisation\n",
    "if VERBOSE:\n",
    "    fig, ax = plt.subplots(1,1, figsize=FIGSIZE)\n",
    "    ax.plot(chicken[PREDICTOR_COL], chicken[TARGET_COL], \"o\", label='échantillon')\n",
    "    ax.plot(chicken[PREDICTOR_COL], Y_model_brut, label='prédiction_brut')\n",
    "    plt.xlabel(PREDICTOR_COL)\n",
    "    plt.legend()\n",
    "    plt.ylabel(TARGET_COL)\n",
    "    plt.show()\n"
   ]
  },
  {
   "cell_type": "markdown",
   "metadata": {},
   "source": [
    "        Question: \n",
    "        - Que peut-on dire de la distribution des points dans l'espace?"
   ]
  },
  {
   "cell_type": "markdown",
   "metadata": {},
   "source": [
    "### 2.1.3 - Evaluation du modele"
   ]
  },
  {
   "cell_type": "markdown",
   "metadata": {},
   "source": [
    "    Question:\n",
    "    - Comment pouvons nous evaluer la qualite du modele entraine?"
   ]
  },
  {
   "cell_type": "markdown",
   "metadata": {},
   "source": [
    "Il existe plusieurs metriques pour evaluer la qualite d'un modele de regression.\n",
    "\n",
    "Exemple:\n",
    "- RMSE\n",
    "- R2\n",
    "\n",
    "Le R2 score (ou coefficient de determination) est souvent utilise pour les regressions lineaires. Il s'agit d'un score qui prend des valeurs entre 0 et 1, 1 etant la valeur parfaite.\n",
    "\n",
    "Dans ce qui suit, nous utiliserons l'implementation disponible sur sklearn pour mesurer la performance des modeles.\n"
   ]
  },
  {
   "cell_type": "code",
   "execution_count": 56,
   "metadata": {},
   "outputs": [
    {
     "data": {
      "text/plain": [
       "0.3369411405108318"
      ]
     },
     "execution_count": 56,
     "metadata": {},
     "output_type": "execute_result"
    }
   ],
   "source": [
    "from sklearn.metrics import r2_score\n",
    "r2_score(chicken[TARGET_COL],Y_model_brut)"
   ]
  },
  {
   "cell_type": "markdown",
   "metadata": {},
   "source": [
    "## 2.3 Elimination des valeurs extrêmes\n",
    "\n",
    " Comme nous l'avons vu dans les sections precedentes, la presence de points extremaux (outliers) peut avoir un impact sur la qualite du modele de regression obtenu. \n",
    " \n",
    " Dans cette section nous allons explorer differents moyens de verifier la presence de points extremaux.\n",
    "\n",
    "### 2.3.1 - Identification des valeurs extrêmes"
   ]
  },
  {
   "cell_type": "markdown",
   "metadata": {},
   "source": [
    "Le boxplot est une maniere de visualiser la distribution d'un jeux de donnees, et d'identifier les outliers."
   ]
  },
  {
   "cell_type": "code",
   "execution_count": 57,
   "metadata": {},
   "outputs": [
    {
     "data": {
      "image/png": "[encoded data removed]",
      "text/plain": [
       "<Figure size 720x576 with 1 Axes>"
      ]
     },
     "metadata": {
      "needs_background": "light"
     },
     "output_type": "display_data"
    }
   ],
   "source": [
    "if VERBOSE:\n",
    "    fig, ax = plt.subplots(figsize=FIGSIZE)\n",
    "    sns.boxplot(y=TARGET_COL, x=\"Unit\", data=chicken, ax=ax)\n",
    "    plt.show()"
   ]
  },
  {
   "cell_type": "code",
   "execution_count": 58,
   "metadata": {},
   "outputs": [
    {
     "data": {
      "text/html": [
       "<div>\n",
       "<style scoped>\n",
       "    .dataframe tbody tr th:only-of-type {\n",
       "        vertical-align: middle;\n",
       "    }\n",
       "\n",
       "    .dataframe tbody tr th {\n",
       "        vertical-align: top;\n",
       "    }\n",
       "\n",
       "    .dataframe thead th {\n",
       "        text-align: right;\n",
       "    }\n",
       "</style>\n",
       "<table border=\"1\" class=\"dataframe\">\n",
       "  <thead>\n",
       "    <tr style=\"text-align: right;\">\n",
       "      <th></th>\n",
       "      <th>Code</th>\n",
       "      <th>Pays</th>\n",
       "      <th>Population</th>\n",
       "      <th>taille du bétail</th>\n",
       "      <th>Unit</th>\n",
       "    </tr>\n",
       "  </thead>\n",
       "  <tbody>\n",
       "    <tr>\n",
       "      <th>18</th>\n",
       "      <td>MAR</td>\n",
       "      <td>Maroc</td>\n",
       "      <td>35581294</td>\n",
       "      <td>199186</td>\n",
       "      <td>1000 Head</td>\n",
       "    </tr>\n",
       "    <tr>\n",
       "      <th>25</th>\n",
       "      <td>TUN</td>\n",
       "      <td>Tunisie</td>\n",
       "      <td>11433443</td>\n",
       "      <td>91215</td>\n",
       "      <td>1000 Head</td>\n",
       "    </tr>\n",
       "    <tr>\n",
       "      <th>9</th>\n",
       "      <td>GHA</td>\n",
       "      <td>Ghana</td>\n",
       "      <td>29121471</td>\n",
       "      <td>74478</td>\n",
       "      <td>1000 Head</td>\n",
       "    </tr>\n",
       "    <tr>\n",
       "      <th>6</th>\n",
       "      <td>CIV</td>\n",
       "      <td>Côte d'Ivoire</td>\n",
       "      <td>24437469</td>\n",
       "      <td>70042</td>\n",
       "      <td>1000 Head</td>\n",
       "    </tr>\n",
       "    <tr>\n",
       "      <th>3</th>\n",
       "      <td>CMR</td>\n",
       "      <td>Cameroun</td>\n",
       "      <td>24566045</td>\n",
       "      <td>51100</td>\n",
       "      <td>1000 Head</td>\n",
       "    </tr>\n",
       "  </tbody>\n",
       "</table>\n",
       "</div>"
      ],
      "text/plain": [
       "   Code           Pays  Population  taille du bétail       Unit\n",
       "18  MAR          Maroc    35581294            199186  1000 Head\n",
       "25  TUN        Tunisie    11433443             91215  1000 Head\n",
       "9   GHA          Ghana    29121471             74478  1000 Head\n",
       "6   CIV  Côte d'Ivoire    24437469             70042  1000 Head\n",
       "3   CMR       Cameroun    24566045             51100  1000 Head"
      ]
     },
     "execution_count": 58,
     "metadata": {},
     "output_type": "execute_result"
    }
   ],
   "source": [
    "df_chicken_sorted = chicken.sort_values(by=TARGET_COL, ascending=False)\n",
    "df_chicken_sorted.head()"
   ]
  },
  {
   "cell_type": "code",
   "execution_count": 59,
   "metadata": {},
   "outputs": [
    {
     "data": {
      "text/html": [
       "<div>\n",
       "<style scoped>\n",
       "    .dataframe tbody tr th:only-of-type {\n",
       "        vertical-align: middle;\n",
       "    }\n",
       "\n",
       "    .dataframe tbody tr th {\n",
       "        vertical-align: top;\n",
       "    }\n",
       "\n",
       "    .dataframe thead th {\n",
       "        text-align: right;\n",
       "    }\n",
       "</style>\n",
       "<table border=\"1\" class=\"dataframe\">\n",
       "  <thead>\n",
       "    <tr style=\"text-align: right;\">\n",
       "      <th></th>\n",
       "      <th>Code</th>\n",
       "      <th>Pays</th>\n",
       "      <th>Population</th>\n",
       "      <th>taille du bétail</th>\n",
       "      <th>Unit</th>\n",
       "    </tr>\n",
       "  </thead>\n",
       "  <tbody>\n",
       "    <tr>\n",
       "      <th>18</th>\n",
       "      <td>MAR</td>\n",
       "      <td>Maroc</td>\n",
       "      <td>35581294</td>\n",
       "      <td>199186</td>\n",
       "      <td>1000 Head</td>\n",
       "    </tr>\n",
       "  </tbody>\n",
       "</table>\n",
       "</div>"
      ],
      "text/plain": [
       "   Code   Pays  Population  taille du bétail       Unit\n",
       "18  MAR  Maroc    35581294            199186  1000 Head"
      ]
     },
     "execution_count": 59,
     "metadata": {},
     "output_type": "execute_result"
    }
   ],
   "source": [
    "highests = df_chicken_sorted.head(1)\n",
    "highests"
   ]
  },
  {
   "cell_type": "code",
   "execution_count": 60,
   "metadata": {},
   "outputs": [],
   "source": [
    "expected_code_countries = {18: 'MAR'}\n",
    "assert highests[\"Code\"].to_dict() == expected_code_countries"
   ]
  },
  {
   "cell_type": "markdown",
   "metadata": {},
   "source": [
    "### 2.3.2 - Visualisation de la relation entre les variables"
   ]
  },
  {
   "cell_type": "code",
   "execution_count": 61,
   "metadata": {},
   "outputs": [],
   "source": [
    "outliers_labels = {}\n",
    "for outlier in highests.to_dict(orient=\"records\"):\n",
    "    outlier_label = dict(\n",
    "        x=outlier[PREDICTOR_COL]+100,\n",
    "        y=outlier[TARGET_COL]+10,\n",
    "        s=outlier[\"Pays\"]\n",
    "    )\n",
    "    outliers_labels[outlier[\"Code\"]] = outlier_label"
   ]
  },
  {
   "cell_type": "code",
   "execution_count": 62,
   "metadata": {},
   "outputs": [
    {
     "data": {
      "text/plain": [
       "{'MAR': {'x': 35581394, 'y': 199196, 's': 'Maroc'}}"
      ]
     },
     "execution_count": 62,
     "metadata": {},
     "output_type": "execute_result"
    }
   ],
   "source": [
    "outliers_labels"
   ]
  },
  {
   "cell_type": "code",
   "execution_count": 63,
   "metadata": {},
   "outputs": [
    {
     "data": {
      "image/png": "[encoded data removed]",
      "text/plain": [
       "<Figure size 720x576 with 1 Axes>"
      ]
     },
     "metadata": {
      "needs_background": "light"
     },
     "output_type": "display_data"
    }
   ],
   "source": [
    "if VERBOSE:\n",
    "    fig, ax = plt.subplots(figsize=FIGSIZE)\n",
    "    sns.scatterplot(data=chicken, x=PREDICTOR_COL, y=TARGET_COL, ax=ax)\n",
    "    for country_code in outliers_labels:\n",
    "        plt.text(**outliers_labels[country_code])\n",
    "\n",
    "    plt.show()"
   ]
  },
  {
   "cell_type": "markdown",
   "metadata": {},
   "source": [
    "### 2.3.3 - Construction du modèle\n",
    "<a name=\"Construction\"></a>"
   ]
  },
  {
   "cell_type": "markdown",
   "metadata": {},
   "source": [
    "Le Maroc etant considere comme un outlier, nous eliminons la ligne correspondante avant de reiterer sur une nouvelle recherche de droite de regression."
   ]
  },
  {
   "cell_type": "code",
   "execution_count": 64,
   "metadata": {},
   "outputs": [],
   "source": [
    "df = chicken.drop(highests.index)\n",
    "X, y = df[[PREDICTOR_COL]], df[TARGET_COL]"
   ]
  },
  {
   "cell_type": "code",
   "execution_count": 65,
   "metadata": {},
   "outputs": [],
   "source": [
    "assert (\"MAR\" not in df[\"Code\"].unique())"
   ]
  },
  {
   "cell_type": "markdown",
   "metadata": {},
   "source": [
    "#### Calibrage et prédiction du modèle"
   ]
  },
  {
   "cell_type": "code",
   "execution_count": 66,
   "metadata": {},
   "outputs": [],
   "source": [
    "# Ajouter du code pour calibrer le nouveau modele \"regressor_noMAR\""
   ]
  },
  {
   "cell_type": "code",
   "execution_count": 67,
   "metadata": {},
   "outputs": [],
   "source": [
    "# Reponse:\n",
    "regressor_noMAR = LinearRegression()\n",
    "# Calibrage du modèle: détermination des coefficient\n",
    "regressor_noMAR.fit(X, y)\n",
    "Y_model_noMAR = regressor_noMAR.predict(X)"
   ]
  },
  {
   "cell_type": "code",
   "execution_count": 68,
   "metadata": {},
   "outputs": [],
   "source": [
    "Y_model_noMAR = regressor_noMAR.predict(X)"
   ]
  },
  {
   "cell_type": "code",
   "execution_count": 69,
   "metadata": {},
   "outputs": [],
   "source": [
    "expected_Y_model_noMAR = [\n",
    "    22074.98251416, 31907.61136427, 21648.00688995, 38496.26660509,\n",
    "    26785.92605415, 14638.04033764, 38338.59293671, 10902.85713551,\n",
    "    11085.66396898, 44082.61808975, 23169.25930673, 10612.61843767,\n",
    "    10935.46341638, 14137.12574999, 16440.73882998, 39728.08600784,\n",
    "    31072.63108748, 13622.50104839, 43503.23210744, 11317.07916535,\n",
    "    34862.01583942, 26261.49089532, 58420.50933907, 17811.44487555,\n",
    "    22391.66284681, 58848.57515034\n",
    "]\n",
    "np.testing.assert_allclose(Y_model_noMAR, expected_Y_model_noMAR)"
   ]
  },
  {
   "cell_type": "markdown",
   "metadata": {},
   "source": [
    "### 2.3.4 - Evaluation du modele"
   ]
  },
  {
   "cell_type": "code",
   "execution_count": 72,
   "metadata": {},
   "outputs": [],
   "source": [
    "# ICI ajouter du code pour :\n",
    "# - afficher la distribution originale\n",
    "# - la prediction avant elimination de la ligne \"Maroc\"\n",
    "# - la prediction apres elimination de la ligne \"Maroc\"\n",
    "# - afficher le R2 score"
   ]
  },
  {
   "cell_type": "code",
   "execution_count": 71,
   "metadata": {},
   "outputs": [
    {
     "data": {
      "image/png": "[encoded data removed]",
      "text/plain": [
       "<Figure size 720x576 with 1 Axes>"
      ]
     },
     "metadata": {
      "needs_background": "light"
     },
     "output_type": "display_data"
    }
   ],
   "source": [
    "# Reponse\n",
    "# Visualisation\n",
    "if VERBOSE:\n",
    "    fig, ax = plt.subplots(1,1, figsize=FIGSIZE)\n",
    "    ax.plot(chicken[PREDICTOR_COL], chicken[TARGET_COL], \"o\", label='échantillon')\n",
    "    ax.plot(df[PREDICTOR_COL], Y_model_noMAR, label='prédiction_noMAR')\n",
    "    ax.plot(chicken[PREDICTOR_COL], Y_model_brut, label='prédiction_brut')\n",
    "    plt.xlabel(PREDICTOR_COL)\n",
    "    plt.legend()\n",
    "    plt.ylabel(TARGET_COL)\n",
    "    plt.show()\n"
   ]
  },
  {
   "cell_type": "code",
   "execution_count": 74,
   "metadata": {},
   "outputs": [
    {
     "data": {
      "text/plain": [
       "0.31377563614545356"
      ]
     },
     "execution_count": 74,
     "metadata": {},
     "output_type": "execute_result"
    }
   ],
   "source": [
    "r2_score(df[TARGET_COL],Y_model_noMAR)"
   ]
  },
  {
   "cell_type": "markdown",
   "metadata": {},
   "source": [
    "    Question:\n",
    "    - Maintenant que l'outlier \"MAROC\" a ete elimine, que pouvez vous dire du reste du nuage de points?"
   ]
  },
  {
   "cell_type": "markdown",
   "metadata": {},
   "source": [
    "## 2.4 - Elimination d'un outlier par visualisation du nuage de points"
   ]
  },
  {
   "cell_type": "markdown",
   "metadata": {},
   "source": [
    "Dans  cette derniere partie et en vous inspirant du code precedent, vous devez ecrire le code pour:\n",
    "- Eliminer le potentiel outlier additionnel du dataset. \n",
    "\n",
    "**Note:** vous pouvez copier le dataset dans u nouveau dataframe afin de preserver l'historique des operations precedentes du notebook\n",
    "\n",
    "- trouver un nouveau modele de regression lineaire correspondant au nouveau jeux de donnees\n",
    "- afficher sur le meme graphe:\n",
    "    - la droite issue de la premiere regression appliquee au dataset brut\n",
    "    - La droite issue de la seconde regression appliquee au dataset dont l'outlier \"Maroc\" a ete elimine\n",
    "    - La droite issue de la troisieme regression que vous aurez codee"
   ]
  },
  {
   "cell_type": "markdown",
   "metadata": {},
   "source": [
    "    Question:\n",
    "    - Quelles differences observez vous entre les 3 droites?\n",
    "    - Que pouvez vous dire du coefficient R2 pour chacun des 3 modeles?"
   ]
  },
  {
   "cell_type": "code",
   "execution_count": 75,
   "metadata": {},
   "outputs": [],
   "source": [
    "df2 = df.copy()"
   ]
  },
  {
   "cell_type": "code",
   "execution_count": 76,
   "metadata": {},
   "outputs": [
    {
     "data": {
      "text/html": [
       "<div>\n",
       "<style scoped>\n",
       "    .dataframe tbody tr th:only-of-type {\n",
       "        vertical-align: middle;\n",
       "    }\n",
       "\n",
       "    .dataframe tbody tr th {\n",
       "        vertical-align: top;\n",
       "    }\n",
       "\n",
       "    .dataframe thead th {\n",
       "        text-align: right;\n",
       "    }\n",
       "</style>\n",
       "<table border=\"1\" class=\"dataframe\">\n",
       "  <thead>\n",
       "    <tr style=\"text-align: right;\">\n",
       "      <th></th>\n",
       "      <th>Code</th>\n",
       "      <th>Pays</th>\n",
       "      <th>Population</th>\n",
       "      <th>taille du bétail</th>\n",
       "      <th>Unit</th>\n",
       "    </tr>\n",
       "  </thead>\n",
       "  <tbody>\n",
       "    <tr>\n",
       "      <th>25</th>\n",
       "      <td>TUN</td>\n",
       "      <td>Tunisie</td>\n",
       "      <td>11433443</td>\n",
       "      <td>91215</td>\n",
       "      <td>1000 Head</td>\n",
       "    </tr>\n",
       "  </tbody>\n",
       "</table>\n",
       "</div>"
      ],
      "text/plain": [
       "   Code     Pays  Population  taille du bétail       Unit\n",
       "25  TUN  Tunisie    11433443             91215  1000 Head"
      ]
     },
     "execution_count": 76,
     "metadata": {},
     "output_type": "execute_result"
    }
   ],
   "source": [
    "df2_sorted = df2.sort_values(by=TARGET_COL, ascending=False)\n",
    "\n",
    "highests = df2_sorted.head(1)\n",
    "highests"
   ]
  },
  {
   "cell_type": "code",
   "execution_count": 77,
   "metadata": {},
   "outputs": [],
   "source": [
    "expected_code_countries = {25: 'TUN'}\n",
    "assert highests[\"Code\"].to_dict() == expected_code_countries"
   ]
  },
  {
   "cell_type": "code",
   "execution_count": 78,
   "metadata": {},
   "outputs": [],
   "source": [
    "outliers_labels = {}\n",
    "for outlier in highests.to_dict(orient=\"records\"):\n",
    "    outlier_label = dict(\n",
    "        x=outlier[PREDICTOR_COL]+100,\n",
    "        y=outlier[TARGET_COL]+10,\n",
    "        s=outlier[\"Pays\"]\n",
    "    )\n",
    "    outliers_labels[outlier[\"Code\"]] = outlier_label"
   ]
  },
  {
   "cell_type": "code",
   "execution_count": 79,
   "metadata": {},
   "outputs": [
    {
     "data": {
      "image/png": "[encoded data removed]",
      "text/plain": [
       "<Figure size 720x576 with 1 Axes>"
      ]
     },
     "metadata": {
      "needs_background": "light"
     },
     "output_type": "display_data"
    }
   ],
   "source": [
    "if VERBOSE:\n",
    "    fig, ax = plt.subplots(figsize=FIGSIZE)\n",
    "    sns.scatterplot(data=chicken, x=PREDICTOR_COL, y=TARGET_COL, ax=ax)\n",
    "    for country_code in outliers_labels:\n",
    "        plt.text(**outliers_labels[country_code])\n",
    "\n",
    "    plt.show()\n",
    "\n"
   ]
  },
  {
   "cell_type": "code",
   "execution_count": 80,
   "metadata": {},
   "outputs": [],
   "source": [
    "df2 = df2.drop(highests.index)\n",
    "X, y = df2[[PREDICTOR_COL]], df2[TARGET_COL]"
   ]
  },
  {
   "cell_type": "code",
   "execution_count": 81,
   "metadata": {},
   "outputs": [],
   "source": [
    "assert (\"TUN\" not in df2[\"Code\"].unique())"
   ]
  },
  {
   "cell_type": "code",
   "execution_count": 82,
   "metadata": {},
   "outputs": [
    {
     "data": {
      "text/html": [
       "<style>#sk-container-id-2 {\n",
       "  /* Definition of color scheme common for light and dark mode */\n",
       "  --sklearn-color-text: black;\n",
       "  --sklearn-color-line: gray;\n",
       "  /* Definition of color scheme for unfitted estimators */\n",
       "  --sklearn-color-unfitted-level-0: #fff5e6;\n",
       "  --sklearn-color-unfitted-level-1: #f6e4d2;\n",
       "  --sklearn-color-unfitted-level-2: #ffe0b3;\n",
       "  --sklearn-color-unfitted-level-3: chocolate;\n",
       "  /* Definition of color scheme for fitted estimators */\n",
       "  --sklearn-color-fitted-level-0: #f0f8ff;\n",
       "  --sklearn-color-fitted-level-1: #d4ebff;\n",
       "  --sklearn-color-fitted-level-2: #b3dbfd;\n",
       "  --sklearn-color-fitted-level-3: cornflowerblue;\n",
       "\n",
       "  /* Specific color for light theme */\n",
       "  --sklearn-color-text-on-default-background: var(--sg-text-color, var(--theme-code-foreground, var(--jp-content-font-color1, black)));\n",
       "  --sklearn-color-background: var(--sg-background-color, var(--theme-background, var(--jp-layout-color0, white)));\n",
       "  --sklearn-color-border-box: var(--sg-text-color, var(--theme-code-foreground, var(--jp-content-font-color1, black)));\n",
       "  --sklearn-color-icon: #696969;\n",
       "\n",
       "  @media (prefers-color-scheme: dark) {\n",
       "    /* Redefinition of color scheme for dark theme */\n",
       "    --sklearn-color-text-on-default-background: var(--sg-text-color, var(--theme-code-foreground, var(--jp-content-font-color1, white)));\n",
       "    --sklearn-color-background: var(--sg-background-color, var(--theme-background, var(--jp-layout-color0, #111)));\n",
       "    --sklearn-color-border-box: var(--sg-text-color, var(--theme-code-foreground, var(--jp-content-font-color1, white)));\n",
       "    --sklearn-color-icon: #878787;\n",
       "  }\n",
       "}\n",
       "\n",
       "#sk-container-id-2 {\n",
       "  color: var(--sklearn-color-text);\n",
       "}\n",
       "\n",
       "#sk-container-id-2 pre {\n",
       "  padding: 0;\n",
       "}\n",
       "\n",
       "#sk-container-id-2 input.sk-hidden--visually {\n",
       "  border: 0;\n",
       "  clip: rect(1px 1px 1px 1px);\n",
       "  clip: rect(1px, 1px, 1px, 1px);\n",
       "  height: 1px;\n",
       "  margin: -1px;\n",
       "  overflow: hidden;\n",
       "  padding: 0;\n",
       "  position: absolute;\n",
       "  width: 1px;\n",
       "}\n",
       "\n",
       "#sk-container-id-2 div.sk-dashed-wrapped {\n",
       "  border: 1px dashed var(--sklearn-color-line);\n",
       "  margin: 0 0.4em 0.5em 0.4em;\n",
       "  box-sizing: border-box;\n",
       "  padding-bottom: 0.4em;\n",
       "  background-color: var(--sklearn-color-background);\n",
       "}\n",
       "\n",
       "#sk-container-id-2 div.sk-container {\n",
       "  /* jupyter's `normalize.less` sets `[hidden] { display: none; }`\n",
       "     but bootstrap.min.css set `[hidden] { display: none !important; }`\n",
       "     so we also need the `!important` here to be able to override the\n",
       "     default hidden behavior on the sphinx rendered scikit-learn.org.\n",
       "     See: https://github.com/scikit-learn/scikit-learn/issues/21755 */\n",
       "  display: inline-block !important;\n",
       "  position: relative;\n",
       "}\n",
       "\n",
       "#sk-container-id-2 div.sk-text-repr-fallback {\n",
       "  display: none;\n",
       "}\n",
       "\n",
       "div.sk-parallel-item,\n",
       "div.sk-serial,\n",
       "div.sk-item {\n",
       "  /* draw centered vertical line to link estimators */\n",
       "  background-image: linear-gradient(var(--sklearn-color-text-on-default-background), var(--sklearn-color-text-on-default-background));\n",
       "  background-size: 2px 100%;\n",
       "  background-repeat: no-repeat;\n",
       "  background-position: center center;\n",
       "}\n",
       "\n",
       "/* Parallel-specific style estimator block */\n",
       "\n",
       "#sk-container-id-2 div.sk-parallel-item::after {\n",
       "  content: \"\";\n",
       "  width: 100%;\n",
       "  border-bottom: 2px solid var(--sklearn-color-text-on-default-background);\n",
       "  flex-grow: 1;\n",
       "}\n",
       "\n",
       "#sk-container-id-2 div.sk-parallel {\n",
       "  display: flex;\n",
       "  align-items: stretch;\n",
       "  justify-content: center;\n",
       "  background-color: var(--sklearn-color-background);\n",
       "  position: relative;\n",
       "}\n",
       "\n",
       "#sk-container-id-2 div.sk-parallel-item {\n",
       "  display: flex;\n",
       "  flex-direction: column;\n",
       "}\n",
       "\n",
       "#sk-container-id-2 div.sk-parallel-item:first-child::after {\n",
       "  align-self: flex-end;\n",
       "  width: 50%;\n",
       "}\n",
       "\n",
       "#sk-container-id-2 div.sk-parallel-item:last-child::after {\n",
       "  align-self: flex-start;\n",
       "  width: 50%;\n",
       "}\n",
       "\n",
       "#sk-container-id-2 div.sk-parallel-item:only-child::after {\n",
       "  width: 0;\n",
       "}\n",
       "\n",
       "/* Serial-specific style estimator block */\n",
       "\n",
       "#sk-container-id-2 div.sk-serial {\n",
       "  display: flex;\n",
       "  flex-direction: column;\n",
       "  align-items: center;\n",
       "  background-color: var(--sklearn-color-background);\n",
       "  padding-right: 1em;\n",
       "  padding-left: 1em;\n",
       "}\n",
       "\n",
       "\n",
       "/* Toggleable style: style used for estimator/Pipeline/ColumnTransformer box that is\n",
       "clickable and can be expanded/collapsed.\n",
       "- Pipeline and ColumnTransformer use this feature and define the default style\n",
       "- Estimators will overwrite some part of the style using the `sk-estimator` class\n",
       "*/\n",
       "\n",
       "/* Pipeline and ColumnTransformer style (default) */\n",
       "\n",
       "#sk-container-id-2 div.sk-toggleable {\n",
       "  /* Default theme specific background. It is overwritten whether we have a\n",
       "  specific estimator or a Pipeline/ColumnTransformer */\n",
       "  background-color: var(--sklearn-color-background);\n",
       "}\n",
       "\n",
       "/* Toggleable label */\n",
       "#sk-container-id-2 label.sk-toggleable__label {\n",
       "  cursor: pointer;\n",
       "  display: block;\n",
       "  width: 100%;\n",
       "  margin-bottom: 0;\n",
       "  padding: 0.5em;\n",
       "  box-sizing: border-box;\n",
       "  text-align: center;\n",
       "}\n",
       "\n",
       "#sk-container-id-2 label.sk-toggleable__label-arrow:before {\n",
       "  /* Arrow on the left of the label */\n",
       "  content: \"▸\";\n",
       "  float: left;\n",
       "  margin-right: 0.25em;\n",
       "  color: var(--sklearn-color-icon);\n",
       "}\n",
       "\n",
       "#sk-container-id-2 label.sk-toggleable__label-arrow:hover:before {\n",
       "  color: var(--sklearn-color-text);\n",
       "}\n",
       "\n",
       "/* Toggleable content - dropdown */\n",
       "\n",
       "#sk-container-id-2 div.sk-toggleable__content {\n",
       "  max-height: 0;\n",
       "  max-width: 0;\n",
       "  overflow: hidden;\n",
       "  text-align: left;\n",
       "  /* unfitted */\n",
       "  background-color: var(--sklearn-color-unfitted-level-0);\n",
       "}\n",
       "\n",
       "#sk-container-id-2 div.sk-toggleable__content.fitted {\n",
       "  /* fitted */\n",
       "  background-color: var(--sklearn-color-fitted-level-0);\n",
       "}\n",
       "\n",
       "#sk-container-id-2 div.sk-toggleable__content pre {\n",
       "  margin: 0.2em;\n",
       "  border-radius: 0.25em;\n",
       "  color: var(--sklearn-color-text);\n",
       "  /* unfitted */\n",
       "  background-color: var(--sklearn-color-unfitted-level-0);\n",
       "}\n",
       "\n",
       "#sk-container-id-2 div.sk-toggleable__content.fitted pre {\n",
       "  /* unfitted */\n",
       "  background-color: var(--sklearn-color-fitted-level-0);\n",
       "}\n",
       "\n",
       "#sk-container-id-2 input.sk-toggleable__control:checked~div.sk-toggleable__content {\n",
       "  /* Expand drop-down */\n",
       "  max-height: 200px;\n",
       "  max-width: 100%;\n",
       "  overflow: auto;\n",
       "}\n",
       "\n",
       "#sk-container-id-2 input.sk-toggleable__control:checked~label.sk-toggleable__label-arrow:before {\n",
       "  content: \"▾\";\n",
       "}\n",
       "\n",
       "/* Pipeline/ColumnTransformer-specific style */\n",
       "\n",
       "#sk-container-id-2 div.sk-label input.sk-toggleable__control:checked~label.sk-toggleable__label {\n",
       "  color: var(--sklearn-color-text);\n",
       "  background-color: var(--sklearn-color-unfitted-level-2);\n",
       "}\n",
       "\n",
       "#sk-container-id-2 div.sk-label.fitted input.sk-toggleable__control:checked~label.sk-toggleable__label {\n",
       "  background-color: var(--sklearn-color-fitted-level-2);\n",
       "}\n",
       "\n",
       "/* Estimator-specific style */\n",
       "\n",
       "/* Colorize estimator box */\n",
       "#sk-container-id-2 div.sk-estimator input.sk-toggleable__control:checked~label.sk-toggleable__label {\n",
       "  /* unfitted */\n",
       "  background-color: var(--sklearn-color-unfitted-level-2);\n",
       "}\n",
       "\n",
       "#sk-container-id-2 div.sk-estimator.fitted input.sk-toggleable__control:checked~label.sk-toggleable__label {\n",
       "  /* fitted */\n",
       "  background-color: var(--sklearn-color-fitted-level-2);\n",
       "}\n",
       "\n",
       "#sk-container-id-2 div.sk-label label.sk-toggleable__label,\n",
       "#sk-container-id-2 div.sk-label label {\n",
       "  /* The background is the default theme color */\n",
       "  color: var(--sklearn-color-text-on-default-background);\n",
       "}\n",
       "\n",
       "/* On hover, darken the color of the background */\n",
       "#sk-container-id-2 div.sk-label:hover label.sk-toggleable__label {\n",
       "  color: var(--sklearn-color-text);\n",
       "  background-color: var(--sklearn-color-unfitted-level-2);\n",
       "}\n",
       "\n",
       "/* Label box, darken color on hover, fitted */\n",
       "#sk-container-id-2 div.sk-label.fitted:hover label.sk-toggleable__label.fitted {\n",
       "  color: var(--sklearn-color-text);\n",
       "  background-color: var(--sklearn-color-fitted-level-2);\n",
       "}\n",
       "\n",
       "/* Estimator label */\n",
       "\n",
       "#sk-container-id-2 div.sk-label label {\n",
       "  font-family: monospace;\n",
       "  font-weight: bold;\n",
       "  display: inline-block;\n",
       "  line-height: 1.2em;\n",
       "}\n",
       "\n",
       "#sk-container-id-2 div.sk-label-container {\n",
       "  text-align: center;\n",
       "}\n",
       "\n",
       "/* Estimator-specific */\n",
       "#sk-container-id-2 div.sk-estimator {\n",
       "  font-family: monospace;\n",
       "  border: 1px dotted var(--sklearn-color-border-box);\n",
       "  border-radius: 0.25em;\n",
       "  box-sizing: border-box;\n",
       "  margin-bottom: 0.5em;\n",
       "  /* unfitted */\n",
       "  background-color: var(--sklearn-color-unfitted-level-0);\n",
       "}\n",
       "\n",
       "#sk-container-id-2 div.sk-estimator.fitted {\n",
       "  /* fitted */\n",
       "  background-color: var(--sklearn-color-fitted-level-0);\n",
       "}\n",
       "\n",
       "/* on hover */\n",
       "#sk-container-id-2 div.sk-estimator:hover {\n",
       "  /* unfitted */\n",
       "  background-color: var(--sklearn-color-unfitted-level-2);\n",
       "}\n",
       "\n",
       "#sk-container-id-2 div.sk-estimator.fitted:hover {\n",
       "  /* fitted */\n",
       "  background-color: var(--sklearn-color-fitted-level-2);\n",
       "}\n",
       "\n",
       "/* Specification for estimator info (e.g. \"i\" and \"?\") */\n",
       "\n",
       "/* Common style for \"i\" and \"?\" */\n",
       "\n",
       ".sk-estimator-doc-link,\n",
       "a:link.sk-estimator-doc-link,\n",
       "a:visited.sk-estimator-doc-link {\n",
       "  float: right;\n",
       "  font-size: smaller;\n",
       "  line-height: 1em;\n",
       "  font-family: monospace;\n",
       "  background-color: var(--sklearn-color-background);\n",
       "  border-radius: 1em;\n",
       "  height: 1em;\n",
       "  width: 1em;\n",
       "  text-decoration: none !important;\n",
       "  margin-left: 1ex;\n",
       "  /* unfitted */\n",
       "  border: var(--sklearn-color-unfitted-level-1) 1pt solid;\n",
       "  color: var(--sklearn-color-unfitted-level-1);\n",
       "}\n",
       "\n",
       ".sk-estimator-doc-link.fitted,\n",
       "a:link.sk-estimator-doc-link.fitted,\n",
       "a:visited.sk-estimator-doc-link.fitted {\n",
       "  /* fitted */\n",
       "  border: var(--sklearn-color-fitted-level-1) 1pt solid;\n",
       "  color: var(--sklearn-color-fitted-level-1);\n",
       "}\n",
       "\n",
       "/* On hover */\n",
       "div.sk-estimator:hover .sk-estimator-doc-link:hover,\n",
       ".sk-estimator-doc-link:hover,\n",
       "div.sk-label-container:hover .sk-estimator-doc-link:hover,\n",
       ".sk-estimator-doc-link:hover {\n",
       "  /* unfitted */\n",
       "  background-color: var(--sklearn-color-unfitted-level-3);\n",
       "  color: var(--sklearn-color-background);\n",
       "  text-decoration: none;\n",
       "}\n",
       "\n",
       "div.sk-estimator.fitted:hover .sk-estimator-doc-link.fitted:hover,\n",
       ".sk-estimator-doc-link.fitted:hover,\n",
       "div.sk-label-container:hover .sk-estimator-doc-link.fitted:hover,\n",
       ".sk-estimator-doc-link.fitted:hover {\n",
       "  /* fitted */\n",
       "  background-color: var(--sklearn-color-fitted-level-3);\n",
       "  color: var(--sklearn-color-background);\n",
       "  text-decoration: none;\n",
       "}\n",
       "\n",
       "/* Span, style for the box shown on hovering the info icon */\n",
       ".sk-estimator-doc-link span {\n",
       "  display: none;\n",
       "  z-index: 9999;\n",
       "  position: relative;\n",
       "  font-weight: normal;\n",
       "  right: .2ex;\n",
       "  padding: .5ex;\n",
       "  margin: .5ex;\n",
       "  width: min-content;\n",
       "  min-width: 20ex;\n",
       "  max-width: 50ex;\n",
       "  color: var(--sklearn-color-text);\n",
       "  box-shadow: 2pt 2pt 4pt #999;\n",
       "  /* unfitted */\n",
       "  background: var(--sklearn-color-unfitted-level-0);\n",
       "  border: .5pt solid var(--sklearn-color-unfitted-level-3);\n",
       "}\n",
       "\n",
       ".sk-estimator-doc-link.fitted span {\n",
       "  /* fitted */\n",
       "  background: var(--sklearn-color-fitted-level-0);\n",
       "  border: var(--sklearn-color-fitted-level-3);\n",
       "}\n",
       "\n",
       ".sk-estimator-doc-link:hover span {\n",
       "  display: block;\n",
       "}\n",
       "\n",
       "/* \"?\"-specific style due to the `<a>` HTML tag */\n",
       "\n",
       "#sk-container-id-2 a.estimator_doc_link {\n",
       "  float: right;\n",
       "  font-size: 1rem;\n",
       "  line-height: 1em;\n",
       "  font-family: monospace;\n",
       "  background-color: var(--sklearn-color-background);\n",
       "  border-radius: 1rem;\n",
       "  height: 1rem;\n",
       "  width: 1rem;\n",
       "  text-decoration: none;\n",
       "  /* unfitted */\n",
       "  color: var(--sklearn-color-unfitted-level-1);\n",
       "  border: var(--sklearn-color-unfitted-level-1) 1pt solid;\n",
       "}\n",
       "\n",
       "#sk-container-id-2 a.estimator_doc_link.fitted {\n",
       "  /* fitted */\n",
       "  border: var(--sklearn-color-fitted-level-1) 1pt solid;\n",
       "  color: var(--sklearn-color-fitted-level-1);\n",
       "}\n",
       "\n",
       "/* On hover */\n",
       "#sk-container-id-2 a.estimator_doc_link:hover {\n",
       "  /* unfitted */\n",
       "  background-color: var(--sklearn-color-unfitted-level-3);\n",
       "  color: var(--sklearn-color-background);\n",
       "  text-decoration: none;\n",
       "}\n",
       "\n",
       "#sk-container-id-2 a.estimator_doc_link.fitted:hover {\n",
       "  /* fitted */\n",
       "  background-color: var(--sklearn-color-fitted-level-3);\n",
       "}\n",
       "</style><div id=\"sk-container-id-2\" class=\"sk-top-container\"><div class=\"sk-text-repr-fallback\"><pre>LinearRegression()</pre><b>In a Jupyter environment, please rerun this cell to show the HTML representation or trust the notebook. <br />On GitHub, the HTML representation is unable to render, please try loading this page with nbviewer.org.</b></div><div class=\"sk-container\" hidden><div class=\"sk-item\"><div class=\"sk-estimator fitted sk-toggleable\"><input class=\"sk-toggleable__control sk-hidden--visually\" id=\"sk-estimator-id-2\" type=\"checkbox\" checked><label for=\"sk-estimator-id-2\" class=\"sk-toggleable__label fitted sk-toggleable__label-arrow fitted\">&nbsp;&nbsp;LinearRegression<a class=\"sk-estimator-doc-link fitted\" rel=\"noreferrer\" target=\"_blank\" href=\"https://scikit-learn.org/1.5/modules/generated/sklearn.linear_model.LinearRegression.html\">?<span>Documentation for LinearRegression</span></a><span class=\"sk-estimator-doc-link fitted\">i<span>Fitted</span></span></label><div class=\"sk-toggleable__content fitted\"><pre>LinearRegression()</pre></div> </div></div></div></div>"
      ],
      "text/plain": [
       "LinearRegression()"
      ]
     },
     "execution_count": 82,
     "metadata": {},
     "output_type": "execute_result"
    }
   ],
   "source": [
    "regressor_noTUN_noMAR = LinearRegression()\n",
    "# Calibrage du modèle: détermination des coefficient\n",
    "regressor_noTUN_noMAR.fit(X, y)"
   ]
  },
  {
   "cell_type": "code",
   "execution_count": 83,
   "metadata": {},
   "outputs": [],
   "source": [
    "Y_model_noTUN_noMAR = regressor_noTUN_noMAR.predict(X)"
   ]
  },
  {
   "cell_type": "code",
   "execution_count": 84,
   "metadata": {},
   "outputs": [],
   "source": [
    "expected_Y_model_noTUN_noMAR = [\n",
    "    19039.50424144, 29456.62073701, 18587.14761474, 36436.9298933 ,\n",
    "    24030.48360293, 11160.48285208, 36269.88352178,  7203.26661398,\n",
    "    7396.94015841, 42355.35466942, 20198.82887378,  6895.77505979,\n",
    "    7237.81113218, 10629.79205785, 13070.3403772 , 37741.97317476,\n",
    "    28572.00615962, 10084.57617003, 41741.52785203,  7642.11152571,\n",
    "    32586.64588714, 23474.87408821, 57545.54294173, 14522.52623467,\n",
    "    57999.05456022\n",
    "]\n",
    "np.testing.assert_allclose(Y_model_noTUN_noMAR, expected_Y_model_noTUN_noMAR)"
   ]
  },
  {
   "cell_type": "code",
   "execution_count": 85,
   "metadata": {},
   "outputs": [
    {
     "data": {
      "image/png": "[encoded data removed]",
      "text/plain": [
       "<Figure size 720x576 with 1 Axes>"
      ]
     },
     "metadata": {
      "needs_background": "light"
     },
     "output_type": "display_data"
    }
   ],
   "source": [
    "# Visualisation\n",
    "if VERBOSE:\n",
    "    fig, ax = plt.subplots(1,1, figsize=FIGSIZE)\n",
    "    ax.plot(chicken[PREDICTOR_COL], chicken[TARGET_COL], \"o\", label='échantillon')\n",
    "    ax.plot(df2[PREDICTOR_COL], Y_model_noTUN_noMAR, label='prédiction_noTUN_noMAR')\n",
    "    ax.plot(df[PREDICTOR_COL], Y_model_noMAR, label='prédiction_noMAR')\n",
    "    ax.plot(chicken[PREDICTOR_COL], Y_model_brut, label='prédiction_brut')\n",
    "    plt.xlabel(PREDICTOR_COL)\n",
    "    plt.legend()\n",
    "    plt.ylabel(TARGET_COL)\n",
    "    plt.show()\n"
   ]
  },
  {
   "cell_type": "code",
   "execution_count": 87,
   "metadata": {},
   "outputs": [
    {
     "data": {
      "text/plain": [
       "0.4766331227155435"
      ]
     },
     "execution_count": 87,
     "metadata": {},
     "output_type": "execute_result"
    }
   ],
   "source": [
    "r2_score(df2[TARGET_COL],Y_model_noTUN_noMAR)"
   ]
  },
  {
   "cell_type": "markdown",
   "metadata": {},
   "source": [
    "---\n",
    "# Fin du cours\n",
    "---"
   ]
  }
 ],
 "metadata": {
  "kernelspec": {
   "display_name": "Python 3.9.12 ('default')",
   "language": "python",
   "name": "python3"
  },
  "language_info": {
   "codemirror_mode": {
    "name": "ipython",
    "version": 3
   },
   "file_extension": ".py",
   "mimetype": "text/x-python",
   "name": "python",
   "nbconvert_exporter": "python",
   "pygments_lexer": "ipython3",
   "version": "3.9.12"
  },
  "toc": {
   "base_numbering": 1,
   "nav_menu": {},
   "number_sections": true,
   "sideBar": true,
   "skip_h1_title": false,
   "title_cell": "Table of Contents",
   "title_sidebar": "Contents",
   "toc_cell": false,
   "toc_position": {},
   "toc_section_display": true,
   "toc_window_display": false
  },
  "vscode": {
   "interpreter": {
    "hash": "c678549396045564fa67640eeac0496911c6e3563d774d64cc7889a80bb761d5"
   }
  }
 },
 "nbformat": 4,
 "nbformat_minor": 4
}
